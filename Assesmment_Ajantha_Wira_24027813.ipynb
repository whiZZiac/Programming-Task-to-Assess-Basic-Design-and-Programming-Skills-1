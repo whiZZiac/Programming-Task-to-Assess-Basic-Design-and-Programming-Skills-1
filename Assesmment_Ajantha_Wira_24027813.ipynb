{
 "cells": [
  {
   "cell_type": "markdown",
   "id": "b39df8c7-8156-42dc-8c5a-10d693d9f13b",
   "metadata": {},
   "source": [
    "# **CSC-40076: Summative Assessment 1 - Programming Task to Assess Basic Design and Programming Skills 1**\n",
    "### Assignment 1"
   ]
  },
  {
   "cell_type": "markdown",
   "id": "cc4790b5-3017-4bb3-89f8-5fe26acda4ef",
   "metadata": {},
   "source": [
    "Completed by: **Ajantha Wirasinghe**\n",
    "\n",
    "Keele Student number: **24027813**\n",
    "\n",
    "date: 31/03/2024\n",
    "\n",
    "-----------"
   ]
  },
  {
   "cell_type": "markdown",
   "id": "e701bd57-b1a9-42f7-91d9-4e3102d6661d",
   "metadata": {
    "jp-MarkdownHeadingCollapsed": true
   },
   "source": [
    "**The Problem**\n",
    "A small college lending library run by volunteers has donated its books to the case study library. They utilised a simple but effective spreadsheet-based cataloguing and loan system. Their books and data files are thus available for some experimental work. We have been given 3 files, books.csv,\n",
    "bookloans.csv, and membership.csv. We are ignoring membership data for this assignment. The library has a standard loan period of 14 days. A borrowed book returned after 19 days is 5 days late.\n",
    "The text file **books.csv** contains a subset list of their books in CSV format. It has a header row. The CSV files are encoded as UTF-8. You may assume it is free from errors i.e., no records are flawed.\n",
    "\n",
    "The text file **bookloans.csv** contains data on borrowed books in CSV format. It does not have a header row. Be warned that this file has errors. Each row holds a book_number, member_number, date_of_loan and date_of_return separated by commas. Only transactions of books borrowed from our library and returned during the year of the transaction are valid. The order of the records is from the transaction of a member borrowing a book, so it is in the order of the date of the loan. Assumethat all the books borrowed and returned were in 2023.were in 2023."
   ]
  },
  {
   "cell_type": "markdown",
   "id": "13f80975-6b67-4d6a-9cf5-fb1de82a7122",
   "metadata": {},
   "source": [
    "##### **The year of the transaction is 2023.**\n",
    "\n",
    "Some observations already made are:\n",
    "- Each book has only a single copy for a loan, so if it is on loan, it cannot be borrowed. In other words, it can only be borrowed if it is on the shelf.CSC-40076/10/2023\n",
    "- A date_of_return of 0 (zero) means that the book has not been returned yet so is not on the shelf and cannot be borrowed.\n",
    "- All loans are returned within the year or not returned at all.\n",
    "- The file contains thousands of valid loan transactions but many invalid ones.\n",
    "- The date_of_loan is a single float number representing the date of the loan in Microsoft Excel Epoch Format that is stored for our processing as an integer or a string that evaluates to an integer. We are ignoring fractions of a day, so integers are fine. It represents the number of days elapsed since 1/1/1900.\n",
    "- In the year 2023, the 1st of January 2023 had an Excel epoch date of 44927 and the 31st of December 2023 had an Excel epoch date 45291.\n",
    "\n",
    "  \n",
    "There is a separate notebook containing functions that may be useful that relate to Excel epoch dates and the more usual ‘YYYY-MM-DD’ format. It is possible to do the tasks without the ‘YYYY-MM-DD’ format, but you may wish to convert dates for your own convenience in understanding the data.\n",
    "\n",
    "Statistics received from the library tell us some facts about the files provided by them. These are listed\n",
    "below for your information.\n",
    "\n",
    "**books.csv**\n",
    "- the highest book number in the collection is 120.\n",
    "- the highest member ID number of a borrower is 200.\n",
    "  \n",
    "**bookloans.csv**\n",
    "- The number of invalid loans (not returned) is 51.\n",
    "- The maximum days borrowed: 20.\n",
    "- The minimum days borrowed and returned: 1.\n",
    "- The lowest book number borrowed: 1.\n",
    "- The highest book number borrowed: 140.\n",
    "- The lowest member number of borrowers: 1.\n",
    "- The highest member id number of a borrower: 200.\n",
    "\n",
    "  \n",
    "We need to compute the lost data from the files"
   ]
  },
  {
   "cell_type": "markdown",
   "id": "ab9e8fb3-bef1-411c-8356-8f9455fc0ffc",
   "metadata": {},
   "source": [
    "## <span style='color:blue'>**Task 1**</span>\n",
    "--------------\n",
    "\n",
    "This task requires reading books.csv and bookloans.csv into nested lists or dictionaries and ensuring you have a list of valid book loans. It requires processing to produce a printed report. You need to consider the validity of the data used in your report or your statistics will be wrong.\n",
    "\n",
    "A report of **books borrowed in 2023** is required listing the returned book number, book title, author, and the number of days borrowed. This should be a valid list excluding the false books and nonreturned borrows. We want to identify and show the least popular and most popular books.\n",
    "\n",
    "What is the best measure for the popularity of a book in a lending library, the number of times it is borrowed in a year, or the number of days for which it was borrowed in a year?\n",
    "\n",
    "That is a design issue.\n",
    "\n",
    "- **I.** The number of times a book is borrowed in 2023 provides a measure of its overall popularity and demand among library members. This measure can determine which books:\n",
    "  \n",
    "   - a. we purchase additional copies of,\n",
    "   - b. we feature in promotions or displays, and\n",
    "   - c. we recommend to members looking for recommendations.\n",
    "\n",
    "- **II.** The number of days for which a book is borrowed in a year provides a measure of its sustained popularity and engagement among library members. This measure can be useful in determining which books to keep in the library's collection over time, as books that are consistently checked out for longer periods may be more valuable to the library's members.\n",
    "\n",
    "To measure the number of times a book is borrowed, you can simply count the number of times each book appears on the loan list in 2023. This measure is relatively easy to obtain as it only requires tallying the number of times each book is checked out for a loan.\n",
    "\n",
    "To measure the number of days for which a book is borrowed, you need to consult the record of the dates on which each book is checked out and returned, and then calculate the number of days between those dates, and the period of the loan. This measure requires arguably more effort as it involves tracking individual loans and calculating the length of time for each loan. The file bookloans.csv is a transaction file in order of the date a book is borrowed. We wish you to process that file to compute the **number of days for which each book was borrowed.***\n",
    "\n",
    "Popularity is measured by the **number of days for which each book was** borrowed in 2023.\n",
    "\n",
    "You may disagree with this. That is okay. You are welcome to argue your countercase under the quality section of the assessment. But for this task the number of days for which each book is borrowed\n",
    "\n",
    "*Note: If you are doing a reassessment, this measure may be different from the presentation that you studied and were assessed for this assignment. This measure supersedes the previous requirement.*\n",
    "\n",
    "We require the listing of books sorted by **reverse order** of their popularity.\n",
    "\n",
    "Write code to accomplish this. Use functions where appropriate and comment on your code often to\n",
    "show your assessor what you are doing and why.\n"
   ]
  },
  {
   "cell_type": "markdown",
   "id": "e83c4094-48d7-45f9-867b-a53e09f4631f",
   "metadata": {},
   "source": [
    "-----------------------------\n",
    "\n",
    "## **Solution:**\n",
    "To start with I am validating the provided statistics:\n",
    "\n",
    "-------------------\n",
    "\n",
    "\n",
    "**books.csv**\n",
    "- the highest book number in the collection is 120.\n",
    "- the highest member ID number of a borrower is 200.\n",
    "\n",
    "**bookloans.csv**\n",
    "- The number of invalid loans (not returned) is 51.\n",
    "- The maximum days borrowed: 20.\n",
    "- The minimum days borrowed and returned: 1.\n",
    "- The lowest book number borrowed: 1.\n",
    "- The highest book number borrowed: 140.\n",
    "- The lowest member number of borrowers: 1.\n",
    "- The highest member id number of a borrower: 200.\n",
    "\n"
   ]
  },
  {
   "cell_type": "markdown",
   "id": "dbe279ba-c673-4a2a-b940-de5b53a6c8a6",
   "metadata": {},
   "source": [
    "----------------------------\n",
    "### **Important**:\n",
    "**I have opted not using the formal structure of Python coding of declaring functions first on the top of the body and then calling them in the main body. Instead, I have used a function or functions for each operation or task and then called them immediately to generate the required results. This is an educational assignment and will allow me to choose one task at a time and solve it in this chosen structure.**\n",
    "\n",
    "----------------\n",
    "\n",
    "\n",
    "- all the below functions with cross-validation for provided statistics, provide neccessry evidence of function testing, connecting CSV files for analysis and data check and cleaning.\n",
    "- In below functions of conversion of excel dates formats and then printing lists and dicts I have performed exception handling.\n",
    "- All the fuctions are included with necessary docstrings and comments "
   ]
  },
  {
   "cell_type": "markdown",
   "id": "fb56691a-cc1e-48d1-81cd-e1350c2a1344",
   "metadata": {},
   "source": [
    "_______________\n",
    "#### **Reading csv files**\n",
    "_____________\n"
   ]
  },
  {
   "cell_type": "code",
   "execution_count": 1,
   "id": "2c139124-7485-4a4e-b9a4-d2993e97ef58",
   "metadata": {
    "jp-MarkdownHeadingCollapsed": true
   },
   "outputs": [],
   "source": [
    "import csv\n",
    "\n",
    "# Step 1: Read the data from books.csv and bookloans.csv files\n",
    "import csv\r\n",
    "\r\n",
    "def read_books(filename):\r\n",
    "    \"\"\"\r\n",
    "    Reads the books.csv file and creates a dictionary with book IDs as keys and book details as values.\r\n",
    "    Args:\r\n",
    "        filename (str): The filename of the books.cs stored in the same location as the working directory file.\r\n",
    "    Returns:\r\n",
    "        dict: A dictionary containing book details.\r\n",
    "    \"\"\"\r\n",
    "    book_data = {}\r\n",
    "    with open(filename, 'r', encoding='utf-8-sig') as file:\r\n",
    "        reader = csv.DictReader(file)\r\n",
    "        for row in reader:\r\n",
    "            book_id = row['Number']\r\n",
    "            book_title = row['Title']\r\n",
    "            book_author = row['Author']\r\n",
    "            book_genre = row['Genre']\r\n",
    "            book_subgenre = row['SubGenre']\r\n",
    "            book_publisher = row['Publisher']\r\n",
    "            book_data[book_id] = {'title': book_title, 'author': book_author, 'genre': book_genre, 'subgenre': book_subgenre, 'publisher': book_publisher}\r\n",
    "    return book_data\r\n",
    "\n",
    "\n",
    "\n",
    "import csv\n",
    "\n",
    "def read_loans(filename):\n",
    "    \"\"\"\n",
    "    Reads the bookloans.csv file and creates a list of dictionaries with loan details.\n",
    "    Args:\n",
    "        filename (str): The filename of  stored in the same location as the working directoryhe bookloans.csv file.\n",
    "    Returns:\n",
    "        list: A list of dictionaries containing loan details.\n",
    "    \"\"\"\n",
    "    loan_data = []\n",
    "    with open(filename, 'r', encoding='utf-8-sig') as file:\n",
    "        reader = csv.reader(file)\n",
    "        for row in reader:\n",
    "            book_number, member_number, date_of_loan, date_of_return = row\n",
    "            loan_data.append({'book_number': book_number, 'member_number': member_number,\n",
    "                              'date_of_loan': int(date_of_loan), 'date_of_return': int(date_of_return)})\n",
    "    return loan_data\n",
    "\n"
   ]
  },
  {
   "cell_type": "code",
   "execution_count": 2,
   "id": "92665f35-74c0-4bb5-9c8e-1876c6d2d6c1",
   "metadata": {},
   "outputs": [],
   "source": [
    "    book_data = read_books('books.csv')\n",
    "    loan_data = read_loans('bookloans.csv')"
   ]
  },
  {
   "cell_type": "markdown",
   "id": "57d9219f-06b7-4d62-b893-f27be9a464e6",
   "metadata": {},
   "source": [
    "_________________\n",
    "\n",
    "**Statistics received from the library tell us some facts about the files provided by them. We are going to calculate them to verify the results:**"
   ]
  },
  {
   "cell_type": "markdown",
   "id": "8f215656-47d0-48d2-8206-2b1f60813eb1",
   "metadata": {},
   "source": [
    "_______________________\n",
    "\n",
    "#### **books.csv**"
   ]
  },
  {
   "cell_type": "markdown",
   "id": "b818a652-b9e8-4a4d-93b5-9446b5260443",
   "metadata": {},
   "source": [
    "____________\n",
    "### **1. The higest book number:**\n",
    "\n",
    "The highest book number of the collection is the length of the data set (after excluding the header) because 'Number' is the primary key and there cannot be any gaps or missing numbers for the integrity of the dataset. 1 is the first valid ID.\n",
    "\n",
    "The library says that the *books* dataset has no errors. So I assume that the highest number of recordings are the highest number of book collections. We can use len() function to calculate it."
   ]
  },
  {
   "cell_type": "code",
   "execution_count": 3,
   "id": "9fe1597c-6624-470e-b72a-a5591a15a9fd",
   "metadata": {},
   "outputs": [
    {
     "name": "stdout",
     "output_type": "stream",
     "text": [
      "The highest book number in the collection is: 120\n"
     ]
    }
   ],
   "source": [
    "print(\"The highest book number in the collection is: {}\".format(len(book_data)))"
   ]
  },
  {
   "cell_type": "markdown",
   "id": "b7710c23-5ab1-4a89-85b2-5a28765d0956",
   "metadata": {},
   "source": [
    "_________________\n",
    "### **2. The highest member ID number of a borrower:**\n",
    "\n",
    "The highest number (***Note** in the task this part is given under books.csv, but member details are only in bookloans.csv dataset. books.csv contains only data related to books.*)"
   ]
  },
  {
   "cell_type": "code",
   "execution_count": 4,
   "id": "17da5ad9-cf6b-4923-a933-7476588c0be5",
   "metadata": {},
   "outputs": [
    {
     "name": "stdout",
     "output_type": "stream",
     "text": [
      "The highest member ID of borrowers is: 200\n"
     ]
    }
   ],
   "source": [
    "def highest_member_id(loan_data):\n",
    "    \"\"\"\n",
    "    Finds the highest member ID of borrowers in the loan data.\n",
    "    Args:\n",
    "        loan_data (list): A list of dictionaries containing loan details.\n",
    "    Returns:\n",
    "        int: The highest member ID of borrowers.\n",
    "    \"\"\"\n",
    "    max_member_id = 0  # Initialize with 0, as member IDs are positive integers\n",
    "    for loan in loan_data:\n",
    "        member_id = int(loan['member_number'])\n",
    "        if member_id > max_member_id:\n",
    "            max_member_id = member_id\n",
    "    return max_member_id\n",
    "\n",
    "\n",
    "highest_id = highest_member_id(loan_data)\n",
    "print(\"The highest member ID of borrowers is:\", highest_id)\n"
   ]
  },
  {
   "cell_type": "markdown",
   "id": "9bbd4731-f166-4fbb-9200-fc721a456a4e",
   "metadata": {},
   "source": [
    "__________________\n"
   ]
  },
  {
   "cell_type": "markdown",
   "id": "3a4bec0e-4876-4263-b02f-782d95190d1f",
   "metadata": {},
   "source": [
    "#### **Statistics provided by the Library** *bookloans.csv*\n",
    "- 1. The number of invalid loans (not returned) is 51.\n",
    "- 2. The maximum days borrowed: 20.\n",
    "- 3. The minimum days borrowed and returned: 1.\n",
    "- 4. The lowest book number borrowed: 1.\n",
    "- 5. The highest book number borrowed: 140.\n",
    "- 6. The lowest member number of borrowers: 1.\n",
    "- 7. The highest member id number of a borrower: 200."
   ]
  },
  {
   "cell_type": "markdown",
   "id": "0d83ebdc-a29b-4f15-897c-a64b9d8311fe",
   "metadata": {},
   "source": [
    "_____________________\n",
    "\n",
    "In the following steps, I will cross-validate if those statistics are true. Thereafter we can safely assume the datasets are correctly processed and also an opportunity to test my functions."
   ]
  },
  {
   "cell_type": "markdown",
   "id": "e3962d4e-9212-4f82-a7fe-e9db6a3f574c",
   "metadata": {},
   "source": [
    "### **1. The number of invalid loans (not returned)**"
   ]
  },
  {
   "cell_type": "markdown",
   "id": "d9bf4ec0-4457-4a73-938c-f5ed86535376",
   "metadata": {},
   "source": [
    "we will split the dataset into valid data and invalid data by using the criteria \"Only transactions of books borrowed from our library and returned during the year of the transaction are valid.\" While iterating each record at the same time I can store them in to separate data Lists."
   ]
  },
  {
   "cell_type": "code",
   "execution_count": 5,
   "id": "be9d6b86-5ddb-4061-bb70-5898d8b6e69b",
   "metadata": {},
   "outputs": [],
   "source": [
    "# Filter out invalid loans (not returned during the year 2023) and \n",
    "# save as \"invalid_loans\" and the valid data saved in \"valid_loans\"\n",
    "\n",
    "def filter_valid_loans(loan_data):\n",
    "    \"\"\"\n",
    "    Filters out invalid loans (not returned during the year 2023).\n",
    "    Args:\n",
    "        loan_data (list): A list of dictionaries containing loan details.\n",
    "    Returns:\n",
    "        list: A list of dictionaries containing valid loan details and invalid_loans.\n",
    "    \"\"\"\n",
    "    valid_loans = []\n",
    "    invalid_loans = []\n",
    "    \n",
    "    for loan in loan_data:\n",
    "        if loan['date_of_return'] > 0 and 44927 <= loan['date_of_loan'] <= 45291:\n",
    "            valid_loans.append(loan)\n",
    "        else:\n",
    "            invalid_loans.append(loan)\n",
    "            \n",
    "    return valid_loans, invalid_loans"
   ]
  },
  {
   "cell_type": "markdown",
   "id": "9e60f433-7e61-4580-91b7-7d4c2dde7774",
   "metadata": {},
   "source": [
    "valid dates are considered as positive numbers, between 01/01/2023 and 31/12/2023 with corresponding Excel epoch date of 44927 and 45291. I will conticue carry on calculations in Excel epoch dates as it is easier to do calculations with integers. Where necessary I intend to do the convesrions if necessary.\n",
    "\n",
    "if any invlaid data is existing will be added into a separate list invalid_loans"
   ]
  },
  {
   "cell_type": "code",
   "execution_count": 6,
   "id": "747791b1-97e4-4d66-997e-08b01deec732",
   "metadata": {},
   "outputs": [],
   "source": [
    "# To access to both valid_loans and invalid_loans in the main code (so no need to use global variables).\n",
    "valid_loans, invalid_loans = filter_valid_loans(loan_data)"
   ]
  },
  {
   "cell_type": "code",
   "execution_count": 7,
   "id": "5652560d-8341-4d91-8347-5c41f668f424",
   "metadata": {},
   "outputs": [
    {
     "name": "stdout",
     "output_type": "stream",
     "text": [
      "1. The number of invalid loans (not returned) is  51\n"
     ]
    }
   ],
   "source": [
    "number_invalid_loans = len(invalid_loans)\n",
    "print('1. The number of invalid loans (not returned) is ', number_invalid_loans)"
   ]
  },
  {
   "cell_type": "markdown",
   "id": "98ce1c64-5e04-43ca-9fda-db7dd49d595d",
   "metadata": {},
   "source": [
    "***The result verified the provided value*** "
   ]
  },
  {
   "cell_type": "markdown",
   "id": "a95b0ed4-a5bd-4429-b511-f76697773ce6",
   "metadata": {},
   "source": [
    "__________________\n"
   ]
  },
  {
   "cell_type": "markdown",
   "id": "3467e504-fa3e-4f89-99ef-48299cc7ba86",
   "metadata": {},
   "source": [
    "### **2. The maximum days borrowed:**\n",
    "The following function calculate and filter out the loans with the maximum days borrowed and apend the details to the \"max_borrowed_details\" list. At the moment I would need only the value of days borrowed but the list contain additionaldetails of book number and the member number as well for any future references.I print the max_number of days borrowed and number of such occurances. Also I can print the list by using print(max_borrowed_details(valid_loans)) if needed for analytical purpose. "
   ]
  },
  {
   "cell_type": "code",
   "execution_count": 8,
   "id": "83ecb887-383e-4d21-a221-51b29b2ce006",
   "metadata": {},
   "outputs": [
    {
     "name": "stdout",
     "output_type": "stream",
     "text": [
      "The max number of days borrowed: 20\n",
      "(Number of similar occurrences of max_days_borrowed: 98)\n"
     ]
    }
   ],
   "source": [
    "def calculate_max_borrowed_days_with_each_details(valid_loans):\n",
    "    \"\"\"\n",
    "    Calculates the maximum number of days a book was borrowed in 2023 along with book and member details.\n",
    "    Args:\n",
    "        valid_loans (list): A list of dictionaries containing valid loan details.\n",
    "    Returns:\n",
    "        list: A list containing tuples of maximum borrowed days, book numbers, and member IDs for all occurrences.\n",
    "    \"\"\"\n",
    "    max_borrowed_days = 0  # Initialize max borrowed days to 0\n",
    "    max_borrowed_details = []  # Initialize list to store details of the book(s) and member(s) with max borrowed days\n",
    "    \n",
    "    for loan in valid_loans:  # Iterate over each valid loan\n",
    "        # Calculate the number of days the book was borrowed by subtracting the loan date from the return date\n",
    "        days_borrowed = loan['date_of_return'] - loan['date_of_loan']\n",
    "        \n",
    "        # If the current loan's borrowed days exceed the current maximum, update max borrowed days and associated book number and member ID\n",
    "        if days_borrowed > max_borrowed_days:\n",
    "            max_borrowed_days = days_borrowed\n",
    "            max_borrowed_details = [(days_borrowed, loan['book_number'], loan['member_number'])]\n",
    "        elif days_borrowed == max_borrowed_days:\n",
    "            # If there are multiple occurrences of maximum borrowed days, append details to the list\n",
    "            max_borrowed_details.append((days_borrowed, loan['book_number'], loan['member_number']))\n",
    "    \n",
    "    return max_borrowed_details\n",
    "    \n",
    "print(\"The max number of days borrowed: {}\".format(calculate_max_borrowed_days_with_each_details(valid_loans)[0][0]))\n",
    "print(\"(Number of similar occurrences of max_days_borrowed: {})\".format(len(calculate_max_borrowed_days_with_each_details(valid_loans))))\n",
    "#print(calculate_max_borrowed_days_with_each_details(valid_loans))"
   ]
  },
  {
   "cell_type": "markdown",
   "id": "601eb616-dd71-4b2b-a8a1-d10595dfc12f",
   "metadata": {},
   "source": [
    "***The result verified the provided statistical value***\n",
    "_____________________\n"
   ]
  },
  {
   "cell_type": "markdown",
   "id": "11c5b7b3-b4eb-41d2-9bda-f6fc411a968f",
   "metadata": {},
   "source": [
    "### **3. The minimum days borrowed and returned**"
   ]
  },
  {
   "cell_type": "code",
   "execution_count": 9,
   "id": "48626ae1-8b68-44fb-a0ab-50e03bc7487a",
   "metadata": {},
   "outputs": [
    {
     "name": "stdout",
     "output_type": "stream",
     "text": [
      "The min number of days borrowed: 1\n",
      "(The number of similar occurrences: 109)\n"
     ]
    }
   ],
   "source": [
    "def calculate_min_borrowed_days_with_each_details(valid_loans):\n",
    "    \"\"\"\n",
    "    Calculates the minimum number of days a book was borrowed in 2023 along with book and member details.\n",
    "    Args:\n",
    "        valid_loans (list): A list of dictionaries containing valid loan details.\n",
    "    Returns:\n",
    "        list: A list containing tuples of minimum borrowed days book numbers, and member IDs for all occurrences.\n",
    "    \"\"\"\n",
    "    min_borrowed_days = 365  # Initialize min borrowed days to 365 as 1 year is the max of (valid) possible days borrowed for\n",
    "    min_borrowed_details = []  # Initialize list to store details of the book(s) and member(s) with min borrowed days\n",
    "    \n",
    "    for loan in valid_loans:  # Iterate over each valid loan\n",
    "        # Calculate the number of days the book was borrowed by subtracting the loan date from the return date\n",
    "        days_borrowed = loan['date_of_return'] - loan['date_of_loan']\n",
    "       \n",
    "        # If the current loan's borrowed days less than the current minimum, update min borrowed days and associated book number and member ID\n",
    "        if days_borrowed < min_borrowed_days:\n",
    "            min_borrowed_days = days_borrowed\n",
    "            min_borrowed_details = [(days_borrowed, loan['book_number'], loan['member_number'])]\n",
    "        elif days_borrowed == min_borrowed_days:\n",
    "            # If there are multiple occurrences of minimum borrowed days, append details to the list\n",
    "            min_borrowed_details.append((days_borrowed, loan['book_number'], loan['member_number']))\n",
    "    \n",
    "    return min_borrowed_details\n",
    "    \n",
    "print(\"The min number of days borrowed: {}\".format(calculate_min_borrowed_days_with_each_details(valid_loans)[0][0]))\n",
    "print(\"(The number of similar occurrences: {})\".format(len(calculate_min_borrowed_days_with_each_details(valid_loans))))\n",
    "#print(calculate_min_borrowed_days_with_each_details(valid_loans))"
   ]
  },
  {
   "cell_type": "markdown",
   "id": "a3e1b038-3347-44a1-a962-799e9c5d3ccd",
   "metadata": {},
   "source": [
    "_____________________\n",
    "\n",
    "***NOTE*** The function *calculate_min_borrowed_days_with_each_details* returns a list of tuples. Each tuple contains the details of a loan, including:\n",
    "\n",
    "- The minimum number of days borrowed (days_borrowed)\n",
    "- The book number (book_number)\n",
    "- The member number (member_number)\n",
    "\n",
    "The function returns a list of tuples, where each tuple contains the details of a loan. Each tuple in the list contains:\n",
    "- The minimum number of days borrowed (days_borrowed), which is accessed using [0] within the tuple.\n",
    "- The book number (book_number), which is accessed using [1] within the tuple.\n",
    "- The member number (member_number), which is accessed using [2] within the tuple.\n",
    "\n",
    "  *In this case I am interested in validating the min number of days borrowed only, so I have to print the first element of the first tuple [0][0].*\n",
    "\n",
    "  "
   ]
  },
  {
   "cell_type": "markdown",
   "id": "2a5983f5-4fdb-4967-947e-7c102f3c9f16",
   "metadata": {},
   "source": [
    "***The result verified the provided statistical value***\n",
    "________\n"
   ]
  },
  {
   "cell_type": "markdown",
   "id": "b37e8dac-8883-401e-91e5-d33c722c8c15",
   "metadata": {},
   "source": [
    "### **4. The lowest book number borrowed:**"
   ]
  },
  {
   "cell_type": "markdown",
   "id": "a3da1d49-3408-4869-a8ef-afd0d4060087",
   "metadata": {},
   "source": [
    "________________\n",
    "\n",
    "***Note:*** To initialize min_book_number, I have used positive infinity (float('inf')). In that way it is guaranteed to be greater than any possible book number in the dataset, if the book numbers are numerical. The very first book iterated will be the lowest book number borrowed then. This ensures that any comparison with a real book number will result in the real book number being considered as the new minimum.\n",
    "With this setup, during the iteration, if a real book number is found that is smaller than the current min_book_number, it will update min_book_number accordingly.\n",
    "________________\n"
   ]
  },
  {
   "cell_type": "code",
   "execution_count": 10,
   "id": "a6631ffc-cb24-463c-b4c0-187949114b2c",
   "metadata": {},
   "outputs": [
    {
     "name": "stdout",
     "output_type": "stream",
     "text": [
      "The lowest book number borrowed: 1\n",
      "(The Nummber of the lowest book number borrowed : 22)\n"
     ]
    }
   ],
   "source": [
    "def lowest_book_number_borrowed(valid_loans):\n",
    "    \"\"\"\n",
    "    Find the lowest book number in the valid loans.\n",
    "    Args:\n",
    "        valid_loans (list): A list of dictionaries containing loan details.\n",
    "    Returns:\n",
    "        List: The lowest book number in the valid loans and along with loan details.\n",
    "    \"\"\"\n",
    "    lowest_book_number_details = []\n",
    "    \n",
    "    # Initialize min_book_number with positive infinity\n",
    "    min_book_number = float('inf')\n",
    "    min_book_number_details = []\n",
    "    \n",
    "    for loan in valid_loans:\n",
    "        book_number = int(loan['book_number'])  # Convert book number to integer for comparison\n",
    "        if book_number < min_book_number:\n",
    "            min_book_number = book_number\n",
    "            min_book_number_details = [(book_number, loan['member_number'])]\n",
    "        elif book_number == min_book_number:\n",
    "            min_book_number_details.append((book_number, loan['member_number']))\n",
    "            \n",
    "    return min_book_number_details\n",
    "\n",
    "lowest_book_Number_borrowed = lowest_book_number_borrowed(valid_loans)\n",
    "print(\"The lowest book number borrowed: {}\".format(lowest_book_Number_borrowed[0][0]))\n",
    "print(\"(The Nummber of the lowest book number borrowed : {})\".format(len(lowest_book_Number_borrowed)))\n",
    "\n"
   ]
  },
  {
   "cell_type": "markdown",
   "id": "71738bbc-94a2-48e8-9e6e-705cf19d0005",
   "metadata": {},
   "source": [
    "\n",
    "***NOTE*** lowest_book_number_borrowed(valid_loans) returns a list of tuples, where each tuple contains a book number and a member number.\n",
    "\n",
    "- [0] accesses the first tuple in the list.\n",
    "- [0][0] accesses the first element (book number) of the first tuple.\n"
   ]
  },
  {
   "cell_type": "markdown",
   "id": "0190f000-739d-4b46-b1db-0e51c80b07c2",
   "metadata": {},
   "source": [
    "***The result verified the provided statistical value***\n",
    "___________\n"
   ]
  },
  {
   "cell_type": "markdown",
   "id": "f4b7bad4-1c45-4cce-96a1-cecd3734284d",
   "metadata": {},
   "source": [
    "### **5. The highest book number borrowed:**"
   ]
  },
  {
   "cell_type": "code",
   "execution_count": 11,
   "id": "eb097bcf-363a-497c-92cd-a0d370dde26d",
   "metadata": {},
   "outputs": [
    {
     "name": "stdout",
     "output_type": "stream",
     "text": [
      "The highest book number borrowed: 140\n",
      "(The number of similar occurrences: 6)\n"
     ]
    }
   ],
   "source": [
    "def highest_book_number_borrowed(valid_loans):\n",
    "    \"\"\"\n",
    "    Find the highest book number borrowed in the valid loans.\n",
    "    Args:\n",
    "        valid_loans (list): A list of dictionaries containing loan details.\n",
    "    Returns:\n",
    "        List: The highest book number in the valid loans and along with loan details.\n",
    "    \"\"\"\n",
    "    highest_book_number_details = []\n",
    "    \n",
    "    # Initialize highest_book_number with 0 (as the book number is an integer and 1 is the lowest possible book number)\n",
    "    highest_book_number = 0\n",
    "    highest_book_number_details = []\n",
    "    \n",
    "    for loan in valid_loans:\n",
    "        book_number = int(loan['book_number'])  # Convert book number to integer for comparison\n",
    "        if book_number > highest_book_number:\n",
    "            highest_book_number = book_number\n",
    "            highest_book_number_details = [(book_number, loan['member_number'])]\n",
    "        elif book_number == highest_book_number:\n",
    "            highest_book_number_details.append((book_number, loan['member_number']))\n",
    "            \n",
    "    return highest_book_number_details\n",
    "\n",
    "print(\"The highest book number borrowed: {}\".format(highest_book_number_borrowed(valid_loans)[0][0]))\n",
    "print(\"(The number of similar occurrences: {})\".format(len(highest_book_number_borrowed(valid_loans))))"
   ]
  },
  {
   "cell_type": "markdown",
   "id": "36cdd06d-bcec-491c-b609-21cb0d800316",
   "metadata": {},
   "source": [
    "***The result verified the provided statistical value***\n",
    "__________\n"
   ]
  },
  {
   "cell_type": "markdown",
   "id": "7a3bd076-2f99-4978-9b1e-b4620e9b3997",
   "metadata": {},
   "source": [
    "### **6. The lowest member number of borrowers:**"
   ]
  },
  {
   "cell_type": "code",
   "execution_count": 12,
   "id": "90969a31-071d-4408-97ae-e0f1ad4e3e94",
   "metadata": {},
   "outputs": [
    {
     "name": "stdout",
     "output_type": "stream",
     "text": [
      "The lowest member number of borrowers is: 1\n"
     ]
    }
   ],
   "source": [
    "def lowest_member_id(loan_data):\n",
    "    \"\"\"\n",
    "    Finds the lowest member ID of borrowers in the loan data.\n",
    "    Args:\n",
    "        loan_data (list): A list of dictionaries containing loan details.\n",
    "    Returns:\n",
    "        int: The lowest member ID of borrowers.\n",
    "    \"\"\"\n",
    "    \n",
    "    # Initialize lowest_book_number with positive infinity. 200 is another option as we have already found it\n",
    "    lowest_member_id = float('inf')  \n",
    "    for loan in loan_data:\n",
    "        member_id = int(loan['member_number'])\n",
    "        if member_id < lowest_member_id:\n",
    "            lowest_member_id = member_id\n",
    "    return lowest_member_id\n",
    "\n",
    "\n",
    "lowest_id = lowest_member_id(loan_data)\n",
    "print(\"The lowest member number of borrowers is:\", lowest_id)\n"
   ]
  },
  {
   "cell_type": "markdown",
   "id": "80131248-3cdc-469c-a8e1-6c6eaf6b2c50",
   "metadata": {},
   "source": [
    "***The result verified the provided statistical value***\n",
    "___________\n"
   ]
  },
  {
   "cell_type": "markdown",
   "id": "69275b7f-9b57-4933-81ad-74c84c64ec6f",
   "metadata": {},
   "source": [
    "### **7. The highest member ID number of a borrower:**\n"
   ]
  },
  {
   "cell_type": "code",
   "execution_count": 13,
   "id": "cc44faed-bb2f-4385-abd5-55b806d7a76c",
   "metadata": {},
   "outputs": [
    {
     "name": "stdout",
     "output_type": "stream",
     "text": [
      "The highest member ID of borrowers is: 200\n"
     ]
    }
   ],
   "source": [
    "highest_id = highest_member_id(loan_data)\n",
    "print(\"The highest member ID of borrowers is:\", highest_id)"
   ]
  },
  {
   "cell_type": "markdown",
   "id": "6d44f07e-b0be-4c23-bd5e-dcd184add48d",
   "metadata": {},
   "source": [
    "***The result verified the provided statistical value***\n",
    "___________\n"
   ]
  },
  {
   "cell_type": "markdown",
   "id": "19ef97fe-a96e-4c2a-be3e-92e824bc5c79",
   "metadata": {},
   "source": [
    "___________\n"
   ]
  },
  {
   "cell_type": "markdown",
   "id": "1b8b8b51-cf76-43fa-b2e3-7ef563f6da52",
   "metadata": {},
   "source": [
    "### **Computing the lost data:**\n"
   ]
  },
  {
   "cell_type": "markdown",
   "id": "fac1d8f8-dd0e-46e6-87ea-ea230e954e20",
   "metadata": {},
   "source": [
    "I have printed the earlier filtered-out invalid_loan dataset. This dataset contains returned dates as zero or the books were never returned with the year. For visual understanding, I have converted Excel epoch dates into normal format. The same function can be used to convert dates from loan_data as well."
   ]
  },
  {
   "cell_type": "code",
   "execution_count": 14,
   "id": "1a47c63f-9b08-407b-9820-bfe31b1ad95a",
   "metadata": {
    "scrolled": true
   },
   "outputs": [],
   "source": [
    "\n",
    "\n",
    "import datetime\n",
    "\n",
    "''' This function takes an Excel Epoch Format date\n",
    "    (represented as the number of days since the start date)\n",
    "    and returns a string in \"YYYY-MM-DD\" format. '''\n",
    "\n",
    "def excel_to_date(excel_date):\n",
    "    try:\n",
    "        if excel_date == 0:\n",
    "            return 0\n",
    "        excel_epoch_start = datetime.datetime(1899, 12, 30)\n",
    "        py_date = excel_epoch_start + datetime.timedelta(days=int(excel_date))\n",
    "        return py_date.strftime('%Y-%m-%d')\n",
    "    except ValueError:\n",
    "        return \"Invalid Date\"\n",
    "\n",
    "def loans_converted(loan_data):\n",
    "    \"\"\"\n",
    "    Filters out invalid loans (not returned during the year 2023) and converted data into normal format. The books not\n",
    "    returned within the year, the returned date will be 0.\n",
    "    Args:\n",
    "        loan_data (list): A list of dictionaries containing loan details.\n",
    "    Returns:\n",
    "        list: A list of dictionaries of loans, containing converted dates.\n",
    "    \"\"\"\n",
    "    loans_converted_dates = []\n",
    "    \n",
    "    for row in loan_data:\n",
    "        try:\n",
    "            book_number = row['book_number']\n",
    "            member_number = row['member_number']\n",
    "            date_of_loan = int(row['date_of_loan']) #converting strings to integer\n",
    "            date_of_return = int(row['date_of_return']) #converting strings to integer\n",
    "\n",
    "            # If date_of_return is 0, set it to 0, else convert it to date\n",
    "            # excel_to_date() cannot handle 0 values, so if it is zero the data will remain as 0.\n",
    "            date_of_return_converted = 0 if date_of_return == 0 else excel_to_date(date_of_return)\n",
    "            date_of_loan_converted = excel_to_date(date_of_loan)\n",
    "            #converted dates will be stored in a separate list of dictionaries\n",
    "            loans_converted_dates.append({'book_number': book_number, 'member_number': member_number, 'date_of_loan': date_of_loan_converted, 'date_of_return': date_of_return_converted})\n",
    "        except KeyError as e:\n",
    "            print(f\"KeyError: Missing key {e} in the loan data.\")\n",
    "        except ValueError as e:\n",
    "            print(f\"ValueError: {e}\")\n",
    "                \n",
    "    return loans_converted_dates\n"
   ]
  },
  {
   "cell_type": "code",
   "execution_count": null,
   "id": "b5d8907a-eb30-41c2-afb4-5edb6d874d57",
   "metadata": {},
   "outputs": [],
   "source": []
  },
  {
   "cell_type": "markdown",
   "id": "68ffb807-2d7c-4c7e-b665-88d19149f4a5",
   "metadata": {},
   "source": [
    "#### **Custom fuctions for printing lists, dictionaries and tuples with various options:**"
   ]
  },
  {
   "cell_type": "code",
   "execution_count": 15,
   "id": "24d8cbd0-7b1f-415c-9dc8-750712d3193d",
   "metadata": {},
   "outputs": [],
   "source": [
    "# I have created additional functions to print results of lists or dictionaries or tuples in a meaningful way.\n",
    "\n",
    "# I have used here Try, Except error handling as well\n",
    "\n",
    "# I have used those functions to get appropriate results where needed, to avoid printing screenful of large datasets\n",
    "\n",
    "def printing_dict_10_lines(my_dict):\n",
    "    \"\"\"\n",
    "    This function will print only the first 10 lines of the dictionary.\n",
    "    Args:\n",
    "        my_dict: A dictionary\n",
    "    Returns:\n",
    "        print out only the first 10 lines of the dictionary.\n",
    "    \"\"\"\n",
    "    try:\n",
    "        if not isinstance(my_dict, dict):\n",
    "            raise TypeError(\"Input is not a dictionary.\")\n",
    "        keys = list(my_dict.keys())[:10]\n",
    "        for key in keys:\n",
    "            print(key, my_dict[key])\n",
    "    except TypeError as e:\n",
    "        print(f\"TypeError: {e}\")\n",
    "    except Exception as e:\n",
    "        print(f\"An error occurred: {e}\")\n",
    "        \n",
    "def printing_dict_bottom_10_lines(my_dict):\n",
    "    \"\"\"\n",
    "    This function will print only the bottom 10 lines of the dictionary.\n",
    "    Args:\n",
    "        my_dict: A dictionary\n",
    "    Returns:\n",
    "        print out only the bottom 10 lines of the dictionary.\n",
    "    \"\"\"\n",
    "    try:\n",
    "        if not isinstance(my_dict, dict):\n",
    "            raise TypeError(\"Input is not a dictionary.\")\n",
    "        keys = list(my_dict.keys())[-10:-1]\n",
    "        for key in keys:\n",
    "            print(key, my_dict[key])\n",
    "    except TypeError as e:\n",
    "        print(f\"TypeError: {e}\")\n",
    "    except Exception as e:\n",
    "        print(f\"An error occurred: {e}\")\n",
    "        \n",
    "def printing_list_10_lines(my_list):\n",
    "    \"\"\"\n",
    "    This function will print only the first 10 lines of the list.\n",
    "    Args:\n",
    "        my_list: A List\n",
    "    Returns:\n",
    "        print out only the first 10 lines of the list.\n",
    "    \"\"\"   \n",
    "    try:\n",
    "        if not isinstance(my_list, list):\n",
    "            raise TypeError(\"Input is not a list.\")\n",
    "        first_10_items = my_list[:10]\n",
    "        for item in first_10_items:\n",
    "            print(item)\n",
    "    except TypeError as e:\n",
    "        print(f\"TypeError: {e}\")\n",
    "    except Exception as e:\n",
    "        print(f\"An error occurred: {e}\")\n",
    "\n",
    "def printing_list_bottom_10_items(my_list):\n",
    "    \"\"\"\n",
    "    This function will print only the bottom 10 items of the list.\n",
    "    Args:\n",
    "        my_list: A list\n",
    "    Returns:\n",
    "        print out only the bottom 10 items of the list.\n",
    "    \"\"\"\n",
    "    try:\n",
    "        if not isinstance(my_list, list):\n",
    "            raise TypeError(\"Input is not a list.\")\n",
    "        for item in my_list[-10:]:\n",
    "            print(item)\n",
    "    except TypeError as e:\n",
    "        print(f\"TypeError: {e}\")\n",
    "    except Exception as e:\n",
    "        print(f\"An error occurred: {e}\")\n",
    "\n",
    "\n",
    "def printing_list(my_list):\n",
    "    \"\"\"\n",
    "    This function will print only the given number of lines of the list. It will indicate the maximumm\n",
    "    number of lines which is based on the calculated size of the List. The minimumm will be 1. \n",
    "    If any other number out of the range is called, the function will exit.\n",
    "    Args:\n",
    "        my_list: A List\n",
    "    Returns:\n",
    "        print out only the first user defined lines of the list.\n",
    "    \"\"\"   \n",
    "    n = 0\n",
    "    try:\n",
    "        if not isinstance(my_list, list):\n",
    "            raise TypeError(\"Input is not a list.\")\n",
    "        n = int(input(f\"Enter number of rows needed to print (max={len(my_list)} and min=1:), out of range will exit the request \"))\n",
    "        print(\"\\n\")\n",
    "        if n > 0:\n",
    "            if n > len(my_list):\n",
    "                print(\"Too high number\")\n",
    "                return\n",
    "            else:\n",
    "                # To print like in columns with specified left alignment values in placeholders\n",
    "                print(\"{:<15} {:<40} {:<30} {:<15}\".format('Book Number', 'Title', 'Author', 'Borrowed Days'))\n",
    "                first_n_items = my_list[:n]\n",
    "                for item in first_n_items:\n",
    "                    # formatted output to print with gaps to visually available as a table\n",
    "                    print(\"{:<15} {:<40} {:<30} {:<15}\".format(item['book_number'], item['title'], item['author'], item['borrowed_days']))\n",
    "    except ValueError:\n",
    "        print(\"Invalid input. Please enter a valid number next time.\")\n",
    "    except TypeError as e:\n",
    "        print(f\"TypeError: {e}\")\n",
    "    except Exception as e:\n",
    "        print(f\"An error occurred: {e}\")\n",
    "    return\n",
    "\n",
    "def printing_tuple(my_tuple, num_lines):\n",
    "    \"\"\"\n",
    "    This function prints out the given number of lines from the tuple.\n",
    "    Args:\n",
    "        my_tuple: A tuple\n",
    "        num_lines: Number of lines to print\n",
    "    Returns:\n",
    "        None\n",
    "    \"\"\"\n",
    "    try:\n",
    "        if not isinstance(my_tuple, tuple):\n",
    "            raise TypeError(\"Input is not a tuple.\")\n",
    "        \n",
    "        print(\"Tuple elements:\")\n",
    "        for i, item in enumerate(my_tuple):\n",
    "            if i >= num_lines:\n",
    "                break\n",
    "            print(item)\n",
    "    \n",
    "    except TypeError as e:\n",
    "        print(f\"TypeError: {e}\")\n",
    "    except Exception as e:\n",
    "        print(f\"An error occurred: {e}\")\n",
    "   \n"
   ]
  },
  {
   "cell_type": "markdown",
   "id": "eda1ef40-840a-4eda-a670-82bf2311345c",
   "metadata": {},
   "source": [
    "### **The lost data (invalid_loans)**"
   ]
  },
  {
   "cell_type": "code",
   "execution_count": 16,
   "id": "2bec4d80-e667-4024-bfd8-0d1faceb759a",
   "metadata": {
    "scrolled": true
   },
   "outputs": [
    {
     "name": "stdout",
     "output_type": "stream",
     "text": [
      "Invalid dataset First 10 lines\n",
      "==========================\n",
      "Size of the dataset:  51 \n",
      "\n",
      "{'book_number': '85', 'member_number': '119', 'date_of_loan': '2023-01-09', 'date_of_return': 0}\n",
      "{'book_number': '131', 'member_number': '186', 'date_of_loan': '2023-01-10', 'date_of_return': 0}\n",
      "{'book_number': '58', 'member_number': '24', 'date_of_loan': '2023-01-23', 'date_of_return': 0}\n",
      "{'book_number': '105', 'member_number': '30', 'date_of_loan': '2023-01-24', 'date_of_return': 0}\n",
      "{'book_number': '89', 'member_number': '86', 'date_of_loan': '2023-02-15', 'date_of_return': 0}\n",
      "{'book_number': '43', 'member_number': '150', 'date_of_loan': '2023-02-20', 'date_of_return': 0}\n",
      "{'book_number': '132', 'member_number': '199', 'date_of_loan': '2023-03-02', 'date_of_return': 0}\n",
      "{'book_number': '41', 'member_number': '110', 'date_of_loan': '2023-03-09', 'date_of_return': 0}\n",
      "{'book_number': '56', 'member_number': '194', 'date_of_loan': '2023-03-15', 'date_of_return': 0}\n",
      "{'book_number': '92', 'member_number': '149', 'date_of_loan': '2023-03-27', 'date_of_return': 0}\n"
     ]
    }
   ],
   "source": [
    "print(\"Invalid dataset First 10 lines\")\n",
    "print(\"==========================\")\n",
    "print(\"Size of the dataset: \", len(loans_converted(invalid_loans)), \"\\n\")\n",
    "printing_list_10_lines(loans_converted(invalid_loans))\n"
   ]
  },
  {
   "cell_type": "markdown",
   "id": "610d5477-cdf9-4578-98a2-29d433b805a1",
   "metadata": {},
   "source": [
    "#### **Function testing**"
   ]
  },
  {
   "cell_type": "markdown",
   "id": "b3e56c78-4d3b-4367-aab6-f1299e970b9a",
   "metadata": {},
   "source": [
    " - **Testing with printing out a list instead of a dictionary**"
   ]
  },
  {
   "cell_type": "code",
   "execution_count": 17,
   "id": "b343d6e5-52f7-4c94-940d-0315de5df45c",
   "metadata": {},
   "outputs": [
    {
     "name": "stdout",
     "output_type": "stream",
     "text": [
      "TypeError: Input is not a dictionary.\n"
     ]
    }
   ],
   "source": [
    "# To validate the above function, will use dict printing for list printing.\n",
    "# It should trigger the error handling and give the appropriate result.\n",
    "\n",
    "printing_dict_10_lines(loans_converted(invalid_loans))"
   ]
  },
  {
   "cell_type": "markdown",
   "id": "ace214bc-9f50-4a45-bfde-774fd5bd8b4c",
   "metadata": {},
   "source": [
    " - **Testing with printing first 10 lines out a loan_data which includes non returned books as well**"
   ]
  },
  {
   "cell_type": "code",
   "execution_count": 18,
   "id": "c2bb5c4b-9748-4787-ad1f-1ab1b082a49f",
   "metadata": {},
   "outputs": [
    {
     "name": "stdout",
     "output_type": "stream",
     "text": [
      "Loan dataset first 10 lines\n",
      "==========================\n",
      "Size of the dataset:  2209 \n",
      "\n",
      "{'book_number': '16', 'member_number': '126', 'date_of_loan': '2023-01-01', 'date_of_return': '2023-01-18'}\n",
      "{'book_number': '31', 'member_number': '192', 'date_of_loan': '2023-01-01', 'date_of_return': '2023-01-19'}\n",
      "{'book_number': '57', 'member_number': '199', 'date_of_loan': '2023-01-01', 'date_of_return': '2023-01-21'}\n",
      "{'book_number': '100', 'member_number': '140', 'date_of_loan': '2023-01-01', 'date_of_return': '2023-01-15'}\n",
      "{'book_number': '100', 'member_number': '39', 'date_of_loan': '2023-01-01', 'date_of_return': '2023-01-08'}\n",
      "{'book_number': '114', 'member_number': '196', 'date_of_loan': '2023-01-01', 'date_of_return': '2023-01-12'}\n",
      "{'book_number': '114', 'member_number': '171', 'date_of_loan': '2023-01-01', 'date_of_return': '2023-01-20'}\n",
      "{'book_number': '138', 'member_number': '109', 'date_of_loan': '2023-01-01', 'date_of_return': '2023-01-04'}\n",
      "{'book_number': '10', 'member_number': '150', 'date_of_loan': '2023-01-02', 'date_of_return': '2023-01-15'}\n",
      "{'book_number': '12', 'member_number': '192', 'date_of_loan': '2023-01-02', 'date_of_return': '2023-01-13'}\n"
     ]
    }
   ],
   "source": [
    "print(\"Loan dataset first 10 lines\")\n",
    "print(\"==========================\")\n",
    "print(\"Size of the dataset: \", len(loans_converted(loan_data)), \"\\n\")\n",
    "printing_list_10_lines(loans_converted(loan_data))"
   ]
  },
  {
   "cell_type": "markdown",
   "id": "b8f88dd9-acef-482a-bb26-091e83275568",
   "metadata": {},
   "source": [
    "__________________\n"
   ]
  },
  {
   "cell_type": "markdown",
   "id": "05c32f18-089b-4533-9716-528da39d5918",
   "metadata": {},
   "source": [
    " - **Testing with printing out bottom 10 lines of the loan_data which includes non returned books as well**"
   ]
  },
  {
   "cell_type": "code",
   "execution_count": 19,
   "id": "273c1f5d-9b87-4aa0-9c82-6516da880c79",
   "metadata": {},
   "outputs": [
    {
     "name": "stdout",
     "output_type": "stream",
     "text": [
      "Loan dataset bottomm 10 lines\n",
      "==========================\n",
      "Size of the dataset:  2209 \n",
      "\n",
      "{'book_number': '53', 'member_number': '150', 'date_of_loan': '2023-12-29', 'date_of_return': '2023-12-30'}\n",
      "{'book_number': '83', 'member_number': '143', 'date_of_loan': '2023-12-29', 'date_of_return': '2023-12-31'}\n",
      "{'book_number': '105', 'member_number': '152', 'date_of_loan': '2023-12-29', 'date_of_return': '2023-12-30'}\n",
      "{'book_number': '115', 'member_number': '13', 'date_of_loan': '2023-12-29', 'date_of_return': '2023-12-30'}\n",
      "{'book_number': '129', 'member_number': '75', 'date_of_loan': '2023-12-29', 'date_of_return': '2023-12-31'}\n",
      "{'book_number': '49', 'member_number': '117', 'date_of_loan': '2023-12-30', 'date_of_return': '2023-12-31'}\n",
      "{'book_number': '62', 'member_number': '130', 'date_of_loan': '2023-12-30', 'date_of_return': '2023-12-31'}\n",
      "{'book_number': '63', 'member_number': '19', 'date_of_loan': '2023-12-30', 'date_of_return': '2023-12-31'}\n",
      "{'book_number': '94', 'member_number': '178', 'date_of_loan': '2023-12-30', 'date_of_return': '2023-12-31'}\n",
      "{'book_number': '99', 'member_number': '53', 'date_of_loan': '2023-12-30', 'date_of_return': '2023-12-31'}\n"
     ]
    }
   ],
   "source": [
    "print(\"Loan dataset bottomm 10 lines\")\n",
    "print(\"==========================\")\n",
    "print(\"Size of the dataset: \", len(loan_data), \"\\n\")\n",
    "printing_list_bottom_10_items(loans_converted(loan_data))"
   ]
  },
  {
   "cell_type": "markdown",
   "id": "c08a2485-9608-44d7-9126-38ce04418c57",
   "metadata": {},
   "source": [
    "### **Clean data of book loans (valid_loans):**"
   ]
  },
  {
   "cell_type": "code",
   "execution_count": 20,
   "id": "dae684b8-6e7f-4413-a947-ac2d839f784a",
   "metadata": {},
   "outputs": [
    {
     "name": "stdout",
     "output_type": "stream",
     "text": [
      "Valid dataset First 10 lines\n",
      "==========================\n",
      "Size of the dataset:  2158 \n",
      "\n",
      "{'book_number': '16', 'member_number': '126', 'date_of_loan': '2023-01-01', 'date_of_return': '2023-01-18'}\n",
      "{'book_number': '31', 'member_number': '192', 'date_of_loan': '2023-01-01', 'date_of_return': '2023-01-19'}\n",
      "{'book_number': '57', 'member_number': '199', 'date_of_loan': '2023-01-01', 'date_of_return': '2023-01-21'}\n",
      "{'book_number': '100', 'member_number': '140', 'date_of_loan': '2023-01-01', 'date_of_return': '2023-01-15'}\n",
      "{'book_number': '100', 'member_number': '39', 'date_of_loan': '2023-01-01', 'date_of_return': '2023-01-08'}\n",
      "{'book_number': '114', 'member_number': '196', 'date_of_loan': '2023-01-01', 'date_of_return': '2023-01-12'}\n",
      "{'book_number': '114', 'member_number': '171', 'date_of_loan': '2023-01-01', 'date_of_return': '2023-01-20'}\n",
      "{'book_number': '138', 'member_number': '109', 'date_of_loan': '2023-01-01', 'date_of_return': '2023-01-04'}\n",
      "{'book_number': '10', 'member_number': '150', 'date_of_loan': '2023-01-02', 'date_of_return': '2023-01-15'}\n",
      "{'book_number': '12', 'member_number': '192', 'date_of_loan': '2023-01-02', 'date_of_return': '2023-01-13'}\n"
     ]
    }
   ],
   "source": [
    "print(\"Valid dataset First 10 lines\")\n",
    "print(\"==========================\")\n",
    "print(\"Size of the dataset: \", len(valid_loans), \"\\n\")\n",
    "printing_list_10_lines(loans_converted(valid_loans))"
   ]
  },
  {
   "cell_type": "markdown",
   "id": "0386d874-aaa3-4e20-a295-4c48e6d85325",
   "metadata": {},
   "source": [
    "### <span style='color:blue'>**Task 1: Solutions**</span>\n",
    "\n",
    "### **1.** Report \"Books Borrowed in 2023\"\n",
    "I have taken into consideration the complete set of borrowers who didnt returned the books in time. This is because I consider this is as 1 time loan. "
   ]
  },
  {
   "cell_type": "code",
   "execution_count": 21,
   "id": "6da685da-81b2-49cc-a181-9b97a519851c",
   "metadata": {},
   "outputs": [
    {
     "name": "stdout",
     "output_type": "stream",
     "text": [
      "A). The following list of book numbers were skipped from the final list of borrowers,\n",
      "   because the book numbers were not found in books details:\n",
      "\n",
      " (The number of repetition is the repeated entries of the same book)\n",
      " ['138', '140', '130', '130', '128', '134', '137', '134', '136', '131', '122', '132', '128', '124', '124', '122', '133', '132', '132', '132', '122', '125', '134', '138', '139', '124', '128', '136', '131', '129', '138', '138', '129', '130', '134', '140', '134', '131', '138', '133', '134', '135', '136', '132', '129', '132', '132', '134', '137', '129', '123', '130', '135', '126', '131', '130', '134', '136', '134', '122', '128', '131', '124', '129', '133', '129', '133', '132', '122', '126', '126', '137', '138', '131', '122', '132', '133', '126', '127', '126', '134', '122', '126', '134', '132', '135', '130', '128', '122', '133', '126', '134', '128', '133', '128', '131', '122', '132', '122', '139', '127', '131', '124', '131', '130', '129', '138', '122', '131', '138', '134', '122', '138', '129', '128', '131', '139', '131', '126', '127', '140', '131', '133', '134', '122', '131', '132', '132', '136', '126', '128', '134', '121', '124', '128', '130', '138', '129', '129', '138', '122', '132', '135', '128', '132', '127', '134', '137', '134', '136', '138', '126', '138', '140', '139', '131', '134', '134', '129', '128', '126', '126', '132', '130', '128', '137', '136', '136', '122', '126', '138', '133', '138', '138', '131', '132', '138', '132', '134', '126', '122', '128', '137', '133', '124', '129', '131', '132', '132', '140', '126', '138', '139', '128', '139', '136', '129', '128', '128', '131', '126', '139', '138', '132', '126', '128', '136', '137', '130', '121', '128', '131', '129', '130', '138', '128', '134', '138', '122', '126', '126', '132', '132', '128', '136', '139', '140', '132', '128', '132', '134', '137', '134', '126', '128', '131', '134', '136', '122', '126', '128', '126', '136', '131', '133', '137', '135', '122', '135', '125', '129'] \n",
      "\n",
      "B). The following book numbers were skipped, as not returned or invalid borrowed days:\n",
      " ['85', '58', '105', '89', '43', '41', '56', '92', '119', '109', '39', '8', '6', '72', '33', '91', '47', '55', '36', '61', '49', '117', '79', '63', '100', '93', '17', '106', '78', '51', '32', '30', '94', '24', '60', '15', '66', '31', '99', '88', '2', '38', '22', '87'] \n",
      "\n",
      "\n",
      "\n",
      "C). Books Borrowed in 2023 (unsorted data):\n",
      "\n"
     ]
    },
    {
     "name": "stdin",
     "output_type": "stream",
     "text": [
      "Enter number of rows needed to print (max=1914 and min=1:), out of range will exit the request  10\n"
     ]
    },
    {
     "name": "stdout",
     "output_type": "stream",
     "text": [
      "\n",
      "\n",
      "Book Number     Title                                    Author                         Borrowed Days  \n",
      "16              The Trial                                Frank Kafka                    17             \n",
      "31              The Wealth Of Nations                    Adam Smith                     18             \n",
      "57              Textbook Of Economic Theory              Alfred Stonier                 20             \n",
      "100             Doctor In The Nude                       Richard Gordon                 14             \n",
      "100             Doctor In The Nude                       Richard Gordon                 7              \n",
      "114             Selected Short Stories                   Unknown                        11             \n",
      "114             Selected Short Stories                   Unknown                        19             \n",
      "10              How To Think Like Sherlock Holmes        Maria Konnikova                13             \n",
      "12              Slaughterhouse Five                      Kurt Vonnegut                  11             \n",
      "28              The Outsider                             Albert Camus                   14             \n"
     ]
    }
   ],
   "source": [
    "def generate_borrowed_books_report(loan_data, book_data):\n",
    "    \"\"\"\n",
    "    Generates a report of borrowed books in 2023.\n",
    "    Args:\n",
    "        valid_loans (list): A list of dictionaries containing valid loan details.\n",
    "        book_data (dict): A dictionary containing book details.\n",
    "    Returns:\n",
    "        list: A list of dictionaries representing the report.\n",
    "    \"\"\"\n",
    "\n",
    "    borrowed_books_report = []\n",
    "    not_found_book_numbers = []\n",
    "    invalid_borrowed_days = []\n",
    "    \n",
    "    for loan in loan_data:\n",
    "        book_number = loan['book_number']\n",
    "        if book_number not in book_data:\n",
    "            # skipping the record if the book number is not found in loan records\n",
    "            # recording those invalid book numbers into a separate list\n",
    "            not_found_book_numbers.append(book_number)\n",
    "            continue\n",
    "        book_title = book_data[book_number]['title']\n",
    "        book_author = book_data[book_number]['author']\n",
    "        borrowed_days = loan['date_of_return'] - loan['date_of_loan']\n",
    "        \n",
    "        if borrowed_days <= 0: \n",
    "            # skipping the loan record if the borrowed days are invalid and record in to a seprate list\n",
    "            invalid_borrowed_days.append(book_number)\n",
    "            continue\n",
    "        borrowed_books_report.append({\n",
    "            'book_number': book_number,\n",
    "            'title': book_title,\n",
    "            'author': book_author,\n",
    "            'borrowed_days': borrowed_days\n",
    "        })\n",
    "    if len(invalid_borrowed_days) == 0:\n",
    "        invalid_borrowed_days.append('No data is found')\n",
    "    return borrowed_books_report, not_found_book_numbers, invalid_borrowed_days\n",
    "    \n",
    "borrowed_books_report, not_found_book_numbers, invalid_borrowed_days = generate_borrowed_books_report(loan_data, book_data)\n",
    "\n",
    "print(\"A). The following list of book numbers were skipped from the final list of borrowers,\\n   because the book numbers were not found in books details:\\n\\n\", \"(The number of repetition is the repeated entries of the same book)\\n\", not_found_book_numbers, \"\\n\")\n",
    "print(\"B). The following book numbers were skipped, as not returned or invalid borrowed days:\\n\", invalid_borrowed_days, \"\\n\")\n",
    "print(\"\\n\")\n",
    "print(\"C). Books Borrowed in 2023 (unsorted data):\\n\")\n",
    "\n",
    "printing_list(borrowed_books_report) # user defined function"
   ]
  },
  {
   "cell_type": "markdown",
   "id": "64bb794f-e6fb-4b52-9219-ecb1e222e89d",
   "metadata": {},
   "source": [
    "### **2. The most popular books**"
   ]
  },
  {
   "cell_type": "markdown",
   "id": "a64dda51-7bc3-4531-9abd-d9ce2e4590c3",
   "metadata": {},
   "source": [
    "It is a debated question to identify the most popular book.\n",
    "\n",
    "Since the library has only one copy of each book it is very tricky to decide whether the most popular book is the one borrowed for the most number of days or the one borrowed for the most number of times!\n",
    "\n",
    "I have considered the following factors:\n",
    "\n",
    "**Most days borrowed:**\n",
    "- The most number of days could be a result of that one person borrowing and returning after a long period which is debatable that he even read it, maybe just forgotten or taking too long to read. That should be treated in a different category as a recovery of the item from the member or replace the book if it is held by one single person for too long. It should be excluded from any statistical reviews.\n",
    "- Or that book could be a highly valuable textbook or educational book. In that case, may be the same book wanted by many. We cannot say that without looking into the genre and the value of the item. A meaningful statistical evaluation can be done only with historical data for the book.\n",
    "- If we can categorize and use the 'genre' to identify the above condition in more complex details, may we can make better assumptions as there is no reason why someone is reading a novel for a year!\n",
    "\n",
    "**Most number times borrowed**\n",
    "- I assume the most corrected assumption could be the book which has the highest number of loan count with the second criteria as the length of the borrowed period. That indicates the demand and popularity.\n",
    "- More people are willing to borrow the book. That indicates it is more popular.  \n",
    "- We should consider the 'genre' in this case too, a textbook cannot be returned that quickly but a novel can be. So if a textbook indicates a high number of loans it could be a bad book if returned in a shorter period.\n",
    "\n",
    "**Conclusion**\n",
    "- The statistics and one book are not enough.\n",
    "- Needed several years of statistical data to evaluate any meaningful conclusion if the library has only a single book.\n",
    "- We have to consider in both occasions 'genre' to come to a decision.\n",
    "- It can be even more accurate if we score all three elements (days_borrowed, number_times_borrowed, genre) together to get a better picture. If we can categorize, standardize and score them will give a better picture of the popularity.\n",
    "- Taking the factors I can weigh more to the side of **a number of times** loaned out for the popularity ranking.\n",
    "  \n",
    "**Note** The assumption could be more accurate and with less trouble if we had data for reservation requests for a single book which indicates the book is in demand. \n",
    "\n",
    "So, the library should introduce ***'a reservation request'*** method rather than both methods at the top as a prime selective method."
   ]
  },
  {
   "cell_type": "markdown",
   "id": "d0dbb9fa-540d-4a24-84f3-b47f64c6b67b",
   "metadata": {},
   "source": [
    "___________________\n",
    "\n",
    "- I have included measurement elements of both popularity methods in the following function. while iterating the elements \"days borrowed\" and \"number of times loaned out\" both are calculated and returned within one tuple. This eliminates calculating twice.\n"
   ]
  },
  {
   "cell_type": "code",
   "execution_count": 22,
   "id": "5f11a665-ec27-4c59-90bc-74273946d1df",
   "metadata": {},
   "outputs": [],
   "source": [
    "def get_borrowed_days(valid_loans, book_data):\n",
    "    \"\"\"\n",
    "    Calculates the number of days each book was borrowed.\n",
    "    Args:\n",
    "        valid_loans (list): A list of dictionaries containing valid loan details.\n",
    "        book_data (dict): A dictionary containing book details with book numbers as keys.\n",
    "    Returns:\n",
    "        dict: A dictionary containing the number of days each book was borrowed and other details.\n",
    "        list: A list of book numbers for which data was not found.\n",
    "    \"\"\"\n",
    "    loan_out_details = {}\n",
    "    error_books = set()  # Use a set to store book numbers for which data was not found\n",
    "    \n",
    "    for loan in valid_loans:\n",
    "        book_number = loan['book_number']\n",
    "        \n",
    "        # Check if book_number exists in book_data\n",
    "        if book_number in book_data:\n",
    "            # Get book details\n",
    "            book_title = book_data[book_number]['title']\n",
    "            book_author = book_data[book_number]['author']\n",
    "            date_of_loan = loan['date_of_loan']\n",
    "            date_of_return = loan['date_of_return']\n",
    "            \n",
    "            # Calculate the number of days the book was borrowed\n",
    "            days_borrowed = date_of_return - date_of_loan\n",
    "            \n",
    "            # Create a unique identifier for each book using book number, title, and author\n",
    "            book_key = (book_number, book_title, book_author)\n",
    "            \n",
    "            # Check if the book_key exists in loan_out_details\n",
    "            if book_key not in loan_out_details:\n",
    "                # Add book details to loan_out_details\n",
    "                loan_out_details[book_key] = {\n",
    "                    'book_number': book_number,\n",
    "                    'title': book_title,\n",
    "                    'author': book_author,\n",
    "                    'borrowed_days': days_borrowed,  # Initialize with current borrowed days\n",
    "                    'loan_count': 1\n",
    "                }\n",
    "            else:\n",
    "                # Update borrowed_days and loan_count\n",
    "                loan_out_details[book_key]['borrowed_days'] += days_borrowed\n",
    "                loan_out_details[book_key]['loan_count'] += 1\n",
    "        else:\n",
    "            # Add book number to error_books. This is to avoid printing a long list of error messages.\n",
    "            # only printing the list of book numbers without any repetition after collecting them in a set()\n",
    "            # Elements in set() are unique. \n",
    "            error_books.add(book_number)\n",
    "            \n",
    "    return loan_out_details, list(error_books)\n",
    "\n"
   ]
  },
  {
   "cell_type": "markdown",
   "id": "45b55199-7876-4704-b4af-2d8f88bcc4f3",
   "metadata": {},
   "source": [
    "- Since there are errors in the bookloans.csv there could be some possibility inconsistencies in book numbers and related book names. i.e. there could be the same title but with different book numbers or the same book numbers but with different titles. To avoid those discrepancies I use the unique key as *(book_number, book_title, book_author)*. In that combination, the most accurate data could be retrieved and filtered."
   ]
  },
  {
   "cell_type": "code",
   "execution_count": 23,
   "id": "5dc8f8a4-11d8-4be4-859d-f802a61035ff",
   "metadata": {},
   "outputs": [],
   "source": [
    "# I separately use the following function for sorting the loan_out_details, sorted by loan_count. \n",
    "\n",
    "def sort_loan_out_details_by_loan_count(loan_out_details):\n",
    "    \"\"\"\n",
    "    Sorts the loan_out_details dictionary based on loan_count in descending order.\n",
    "    Args:\n",
    "        loan_out_details (dict): A dictionary containing book details with book numbers as keys\n",
    "                                 and loan details as values.\n",
    "    Returns:\n",
    "        list: A list of sorted book details dictionaries.\n",
    "    \"\"\"\n",
    "    # Sort the loan_out_details based on loan_count in descending order\n",
    "    sorted_books = sorted(loan_out_details.values(), key=lambda x: x['loan_count'], reverse=True)\n",
    "    return sorted_books\n",
    "\n"
   ]
  },
  {
   "cell_type": "code",
   "execution_count": 24,
   "id": "96fbd615-97f2-4fac-b0cf-073afa315966",
   "metadata": {},
   "outputs": [
    {
     "name": "stdout",
     "output_type": "stream",
     "text": [
      "The following Books with book_number not found in book_data. Skipping...\n",
      "\n",
      "['130', '133', '121', '126', '134', '138', '129', '137', '140', '128', '125', '135', '139', '123', '132', '136', '127', '124', '131', '122'] \n",
      "\n",
      "\n",
      "First 10 lines of sorted list, sorted by: loan_count\n",
      "\n",
      "{'book_number': '85', 'title': 'The Great Indian Novel', 'author': 'Shashi Tharoor', 'borrowed_days': 261, 'loan_count': 27}\n",
      "{'book_number': '38', 'title': 'False Impressions', 'author': 'Jeffery Archer', 'borrowed_days': 258, 'loan_count': 27}\n",
      "{'book_number': '119', 'title': 'Karl Marx Biography', 'author': 'Unknown', 'borrowed_days': 272, 'loan_count': 27}\n",
      "{'book_number': '61', 'title': 'A Modern Approach Computer Vision', 'author': 'David Forsyth', 'borrowed_days': 234, 'loan_count': 26}\n",
      "{'book_number': '72', 'title': 'A Prisoner Of Birth', 'author': 'Jeffery Archer', 'borrowed_days': 290, 'loan_count': 26}\n",
      "{'book_number': '48', 'title': 'Journal Of A Novel', 'author': 'John Steinbeck', 'borrowed_days': 254, 'loan_count': 25}\n",
      "{'book_number': '114', 'title': 'Selected Short Stories', 'author': 'Unknown', 'borrowed_days': 276, 'loan_count': 24}\n",
      "{'book_number': '105', 'title': 'Talking Straight', 'author': 'Lee Iacoca', 'borrowed_days': 207, 'loan_count': 24}\n",
      "{'book_number': '94', 'title': 'The Theory Of Everything', 'author': 'Stephen Hawking', 'borrowed_days': 215, 'loan_count': 24}\n",
      "{'book_number': '66', 'title': 'Angels & Demons', 'author': 'Dan Brown', 'borrowed_days': 261, 'loan_count': 24}\n",
      "\n",
      "\n",
      "Bottom 10 lines of the sorted list, sorted by: loan_count\n",
      "\n",
      "{'book_number': '113', 'title': 'History Of Western Philosophy', 'author': 'Bertrand Russell', 'borrowed_days': 23, 'loan_count': 3}\n",
      "{'book_number': '118', 'title': 'One', 'author': 'Richard Bach', 'borrowed_days': 43, 'loan_count': 3}\n",
      "{'book_number': '40', 'title': 'Return Of The Primitive', 'author': 'Ayn Rand', 'borrowed_days': 39, 'loan_count': 3}\n",
      "{'book_number': '71', 'title': \"All The President'S Men\", 'author': 'Bob Woodward', 'borrowed_days': 23, 'loan_count': 3}\n",
      "{'book_number': '57', 'title': 'Textbook Of Economic Theory', 'author': 'Alfred Stonier', 'borrowed_days': 34, 'loan_count': 2}\n",
      "{'book_number': '35', 'title': \"Surely You'Re Joking Mr Feynman\", 'author': 'Richard Feynman', 'borrowed_days': 27, 'loan_count': 2}\n",
      "{'book_number': '59', 'title': 'Learning Opencv', 'author': 'Gary Bradsky', 'borrowed_days': 12, 'loan_count': 2}\n",
      "{'book_number': '108', 'title': 'Ashenden Of The British Agent', 'author': 'William S Maugham', 'borrowed_days': 21, 'loan_count': 2}\n",
      "{'book_number': '67', 'title': 'The Argumentative Indian', 'author': 'Amartya Sen', 'borrowed_days': 25, 'loan_count': 2}\n",
      "{'book_number': '13', 'title': 'Birth Of A Theorem', 'author': 'Cedric Villani', 'borrowed_days': 3, 'loan_count': 1}\n"
     ]
    }
   ],
   "source": [
    "loan_out_details, error_books = get_borrowed_days(valid_loans, book_data)\n",
    "print(\"The following Books with book_number not found in book_data. Skipping...\\n\")\n",
    "print(error_books,\"\\n\")\n",
    "print()\n",
    "sorted_loan_out_details = sort_loan_out_details_by_loan_count(loan_out_details)\n",
    "\n",
    "print(\"First 10 lines of sorted list, sorted by: loan_count\\n\")\n",
    "printing_list_10_lines(sorted_loan_out_details)\n",
    "print(\"\\n\")\n",
    "print(\"Bottom 10 lines of the sorted list, sorted by: loan_count\\n\")\n",
    "printing_list_bottom_10_items(sorted_loan_out_details)"
   ]
  },
  {
   "cell_type": "markdown",
   "id": "5a1cf0d8-75c7-4e2d-8e04-2889a1011a69",
   "metadata": {},
   "source": [
    "##### **Most popular books - based on number of times loaned out**"
   ]
  },
  {
   "cell_type": "code",
   "execution_count": 25,
   "id": "6c9d33ff-7ef7-436e-adb8-4aff6c52e343",
   "metadata": {},
   "outputs": [
    {
     "name": "stdout",
     "output_type": "stream",
     "text": [
      "Most Popular Book\n",
      "Book Number: 85\n",
      "Title: The Great Indian Novel\n",
      "Author: Shashi Tharoor\n",
      "Borrowed Days: 261\n",
      "Loan Count: 27\n",
      "\n",
      "Least Popular Book\n",
      "Book Number: 13\n",
      "Title: Birth Of A Theorem\n",
      "Author: Cedric Villani\n",
      "Borrowed Days: 3\n",
      "Loan Count: 1\n"
     ]
    }
   ],
   "source": [
    "\n",
    "most_popular_book = sorted_loan_out_details[0]\n",
    "least_popular_book = sorted_loan_out_details[-1]\n",
    "\n",
    "print(\"Most Popular Book\")\n",
    "print(f\"Book Number: {most_popular_book['book_number']}\")\n",
    "print(f\"Title: {most_popular_book['title']}\")\n",
    "print(f\"Author: {most_popular_book['author']}\")\n",
    "print(f\"Borrowed Days: {most_popular_book['borrowed_days']}\")\n",
    "print(f\"Loan Count: {most_popular_book['loan_count']}\")\n",
    "print()\n",
    "\n",
    "print(\"Least Popular Book\")\n",
    "print(f\"Book Number: {least_popular_book['book_number']}\")\n",
    "print(f\"Title: {least_popular_book['title']}\")\n",
    "print(f\"Author: {least_popular_book['author']}\")\n",
    "print(f\"Borrowed Days: {least_popular_book['borrowed_days']}\")\n",
    "print(f\"Loan Count: {least_popular_book['loan_count']}\")\n"
   ]
  },
  {
   "cell_type": "markdown",
   "id": "abff2f58-a143-4246-8ab9-76e41f948dfe",
   "metadata": {},
   "source": [
    "##### **Most popular books - based on number of days borrowed**"
   ]
  },
  {
   "cell_type": "code",
   "execution_count": 26,
   "id": "b00d3c55-887c-4e7d-a07d-b913fad6572b",
   "metadata": {},
   "outputs": [
    {
     "name": "stdout",
     "output_type": "stream",
     "text": [
      "Sorted List of Dictionaries of Borrowed Days.\n",
      "The most top one is the highest borrowed days\n",
      "The bottom is the least borrowed days\n",
      "\n",
      "{'book_number': '43', 'title': 'Tales Of Mystery And Imagination', 'author': 'Edgar Allen Poe', 'borrowed_days': 301, 'loan_count': 24}\n",
      "{'book_number': '54', 'title': 'The Complete Mastermind', 'author': 'BBC', 'borrowed_days': 299, 'loan_count': 23}\n",
      "{'book_number': '72', 'title': 'A Prisoner Of Birth', 'author': 'Jeffery Archer', 'borrowed_days': 290, 'loan_count': 26}\n",
      "{'book_number': '47', 'title': 'Asami Asami', 'author': 'P L Deshpande', 'borrowed_days': 281, 'loan_count': 23}\n",
      "{'book_number': '114', 'title': 'Selected Short Stories', 'author': 'Unknown', 'borrowed_days': 276, 'loan_count': 24}\n",
      "{'book_number': '119', 'title': 'Karl Marx Biography', 'author': 'Unknown', 'borrowed_days': 272, 'loan_count': 27}\n",
      "{'book_number': '98', 'title': 'Burning Bright', 'author': 'John Steinbeck', 'borrowed_days': 267, 'loan_count': 24}\n",
      "{'book_number': '103', 'title': 'Beyond The Three Seas', 'author': 'William Dalrymple', 'borrowed_days': 266, 'loan_count': 23}\n",
      "{'book_number': '83', 'title': 'India From Midnight To Milennium', 'author': 'Shashi Tharoor', 'borrowed_days': 266, 'loan_count': 24}\n",
      "{'book_number': '78', 'title': 'Gun Gayin Awadi', 'author': 'P L Deshpande', 'borrowed_days': 265, 'loan_count': 23}\n",
      "{'book_number': '85', 'title': 'The Great Indian Novel', 'author': 'Shashi Tharoor', 'borrowed_days': 261, 'loan_count': 27}\n",
      "{'book_number': '66', 'title': 'Angels & Demons', 'author': 'Dan Brown', 'borrowed_days': 261, 'loan_count': 24}\n",
      "{'book_number': '111', 'title': 'We The Living', 'author': 'Ayn Rand', 'borrowed_days': 259, 'loan_count': 22}\n",
      "{'book_number': '38', 'title': 'False Impressions', 'author': 'Jeffery Archer', 'borrowed_days': 258, 'loan_count': 27}\n",
      "{'book_number': '48', 'title': 'Journal Of A Novel', 'author': 'John Steinbeck', 'borrowed_days': 254, 'loan_count': 25}\n",
      "{'book_number': '112', 'title': 'The Artist And The Mathematician', 'author': 'Amir Aczel', 'borrowed_days': 251, 'loan_count': 24}\n",
      "{'book_number': '7', 'title': 'Integration Of The Indian States', 'author': 'V P Menon', 'borrowed_days': 248, 'loan_count': 22}\n",
      "{'book_number': '51', 'title': 'The Brethren', 'author': 'John Grisham', 'borrowed_days': 246, 'loan_count': 24}\n",
      "{'book_number': '39', 'title': 'The Last Lecture', 'author': 'Randy Pausch', 'borrowed_days': 243, 'loan_count': 23}\n",
      "{'book_number': '92', 'title': 'Bookless In Baghdad', 'author': 'Shashi Tharoor', 'borrowed_days': 243, 'loan_count': 23}\n",
      "{'book_number': '31', 'title': 'The Wealth Of Nations', 'author': 'Adam Smith', 'borrowed_days': 238, 'loan_count': 21}\n",
      "{'book_number': '104', 'title': \"The World'S Greatest Short Stories\", 'author': 'Unknown', 'borrowed_days': 238, 'loan_count': 23}\n",
      "{'book_number': '1', 'title': 'Fundamentals Of Wavelets', 'author': 'Jaideva Goswami', 'borrowed_days': 238, 'loan_count': 22}\n",
      "{'book_number': '79', 'title': 'Aghal Paghal', 'author': 'P L Deshpande', 'borrowed_days': 236, 'loan_count': 22}\n",
      "{'book_number': '20', 'title': 'Physics & Philosophy', 'author': 'Werner Heisenberg', 'borrowed_days': 235, 'loan_count': 24}\n",
      "{'book_number': '61', 'title': 'A Modern Approach Computer Vision', 'author': 'David Forsyth', 'borrowed_days': 234, 'loan_count': 26}\n",
      "{'book_number': '65', 'title': 'Crime And Punishment', 'author': 'Fyodor Dostoevsky', 'borrowed_days': 232, 'loan_count': 19}\n",
      "{'book_number': '91', 'title': 'Free Will', 'author': 'Sam Harris', 'borrowed_days': 229, 'loan_count': 19}\n",
      "{'book_number': '93', 'title': 'The Case Of The Lame Canary', 'author': 'Earle Stanley Gardner', 'borrowed_days': 228, 'loan_count': 19}\n",
      "{'book_number': '21', 'title': 'Making Software', 'author': 'Andy Oram', 'borrowed_days': 228, 'loan_count': 21}\n",
      "{'book_number': '89', 'title': 'The Winter Of Our Discontent', 'author': 'John Steinbeck', 'borrowed_days': 227, 'loan_count': 22}\n",
      "{'book_number': '11', 'title': 'Data Scientists At Work', 'author': 'Sebastian Gutierrez', 'borrowed_days': 225, 'loan_count': 20}\n",
      "{'book_number': '106', 'title': \"Vol 3 Maugham'S Collected Short Stories\", 'author': 'William S Maugham', 'borrowed_days': 225, 'loan_count': 22}\n",
      "{'book_number': '37', 'title': 'The Veteran', 'author': 'Frederick Forsyth', 'borrowed_days': 225, 'loan_count': 24}\n",
      "{'book_number': '63', 'title': 'Let Us C', 'author': 'Yashwant Kanetkar', 'borrowed_days': 222, 'loan_count': 22}\n",
      "{'book_number': '120', 'title': 'To Sir With Love', 'author': 'Braithwaite', 'borrowed_days': 219, 'loan_count': 21}\n",
      "{'book_number': '27', 'title': 'The Beautiful And The Damned', 'author': 'Siddhartha Deb', 'borrowed_days': 218, 'loan_count': 18}\n",
      "{'book_number': '94', 'title': 'The Theory Of Everything', 'author': 'Stephen Hawking', 'borrowed_days': 215, 'loan_count': 24}\n",
      "{'book_number': '116', 'title': 'Clash Of Civilizations And Remaking Of The World Order', 'author': 'Samuel Huntington', 'borrowed_days': 215, 'loan_count': 22}\n",
      "{'book_number': '60', 'title': 'Data Structures Using C & C++', 'author': 'Andrew Tanenbaum', 'borrowed_days': 214, 'loan_count': 20}\n",
      "{'book_number': '5', 'title': 'Orientalism', 'author': 'Edward Said', 'borrowed_days': 214, 'loan_count': 22}\n",
      "{'book_number': '16', 'title': 'The Trial', 'author': 'Frank Kafka', 'borrowed_days': 211, 'loan_count': 18}\n",
      "{'book_number': '56', 'title': 'Soft Computing & Intelligent Systems', 'author': 'Madan Gupta', 'borrowed_days': 211, 'loan_count': 23}\n",
      "{'book_number': '58', 'title': 'Econometric Analysis', 'author': 'W. H. Greene', 'borrowed_days': 209, 'loan_count': 22}\n",
      "{'book_number': '24', 'title': 'The Signal And The Noise', 'author': 'Nate Silver', 'borrowed_days': 209, 'loan_count': 19}\n",
      "{'book_number': '105', 'title': 'Talking Straight', 'author': 'Lee Iacoca', 'borrowed_days': 207, 'loan_count': 24}\n",
      "{'book_number': '32', 'title': 'The Pillars Of The Earth', 'author': 'Ken Follett', 'borrowed_days': 207, 'loan_count': 20}\n",
      "{'book_number': '88', 'title': 'Freedom At Midnight', 'author': 'Dominique Lapierre', 'borrowed_days': 204, 'loan_count': 22}\n",
      "{'book_number': '53', 'title': 'Catch 22', 'author': 'Joseph Heller', 'borrowed_days': 201, 'loan_count': 20}\n",
      "{'book_number': '107', 'title': 'The Phantom Of Manhattan', 'author': 'Frederick Forsyth', 'borrowed_days': 200, 'loan_count': 23}\n",
      "{'book_number': '36', 'title': 'A Farewell To Arms', 'author': 'Ernest Hemingway', 'borrowed_days': 200, 'loan_count': 22}\n",
      "{'book_number': '62', 'title': 'Principles Of Communication Systems', 'author': 'Schilling Taub', 'borrowed_days': 200, 'loan_count': 21}\n",
      "{'book_number': '2', 'title': 'Data Smart', 'author': 'John Foreman', 'borrowed_days': 198, 'loan_count': 20}\n",
      "{'book_number': '49', 'title': 'Once There Was A War', 'author': 'John Steinbeck', 'borrowed_days': 196, 'loan_count': 19}\n",
      "{'book_number': '12', 'title': 'Slaughterhouse Five', 'author': 'Kurt Vonnegut', 'borrowed_days': 194, 'loan_count': 22}\n",
      "{'book_number': '75', 'title': 'The Last Mughal', 'author': 'William Dalrymple', 'borrowed_days': 194, 'loan_count': 17}\n",
      "{'book_number': '15', 'title': 'The Age Of Wrath', 'author': 'Abraham Eraly', 'borrowed_days': 192, 'loan_count': 19}\n",
      "{'book_number': '84', 'title': \"The World'S Greatest Trials\", 'author': 'Unknown', 'borrowed_days': 191, 'loan_count': 17}\n",
      "{'book_number': '87', 'title': 'The City Of Joy', 'author': 'Dominique Lapierre', 'borrowed_days': 190, 'loan_count': 22}\n",
      "{'book_number': '99', 'title': 'The Age Of Discontuinity', 'author': 'Peter Drucker', 'borrowed_days': 183, 'loan_count': 21}\n",
      "{'book_number': '90', 'title': 'On Education', 'author': 'Bertrand Russell', 'borrowed_days': 183, 'loan_count': 16}\n",
      "{'book_number': '41', 'title': 'Jurassic Park', 'author': 'Michael Crichton', 'borrowed_days': 179, 'loan_count': 19}\n",
      "{'book_number': '100', 'title': 'Doctor In The Nude', 'author': 'Richard Gordon', 'borrowed_days': 177, 'loan_count': 21}\n",
      "{'book_number': '17', 'title': \"Statistical Decision Theory'\", 'author': 'John Pratt', 'borrowed_days': 176, 'loan_count': 17}\n",
      "{'book_number': '76', 'title': 'Vol 39 No. 1 Social Choice & Welfare', 'author': 'Various', 'borrowed_days': 170, 'loan_count': 17}\n",
      "{'book_number': '6', 'title': 'The Nature Of Statistical Learning Theory', 'author': 'Vladimir Vapnik', 'borrowed_days': 169, 'loan_count': 17}\n",
      "{'book_number': '117', 'title': 'Uncommon Wisdom', 'author': 'Fritjof Capra', 'borrowed_days': 165, 'loan_count': 18}\n",
      "{'book_number': '30', 'title': 'The Complete Sherlock Holmes Vol Ii', 'author': 'Arthur Conan Doyle', 'borrowed_days': 164, 'loan_count': 19}\n",
      "{'book_number': '33', 'title': 'Mein Kampf', 'author': 'Adolf Hitler', 'borrowed_days': 164, 'loan_count': 14}\n",
      "{'book_number': '55', 'title': 'Dylan On Dylan', 'author': 'Bob Dylan', 'borrowed_days': 160, 'loan_count': 15}\n",
      "{'book_number': '110', 'title': 'The Great War For Civilization', 'author': 'Robert Fisk', 'borrowed_days': 159, 'loan_count': 19}\n",
      "{'book_number': '109', 'title': 'Zen & The Art Of Motorcycle Maintenance', 'author': 'Robert Pirsig', 'borrowed_days': 159, 'loan_count': 16}\n",
      "{'book_number': '82', 'title': 'Manasa', 'author': 'V P Kale', 'borrowed_days': 152, 'loan_count': 12}\n",
      "{'book_number': '19', 'title': 'The New Machiavelli', 'author': 'H. G. Wells', 'borrowed_days': 148, 'loan_count': 13}\n",
      "{'book_number': '14', 'title': 'Structure & Interpretation Of Computer Programs', 'author': 'Gerald Sussman', 'borrowed_days': 145, 'loan_count': 18}\n",
      "{'book_number': '80', 'title': 'Maqta-E-Ghalib', 'author': 'Sanjay Garg', 'borrowed_days': 144, 'loan_count': 15}\n",
      "{'book_number': '23', 'title': 'Machine Learning For Hackers', 'author': 'Drew Conway', 'borrowed_days': 143, 'loan_count': 14}\n",
      "{'book_number': '10', 'title': 'How To Think Like Sherlock Holmes', 'author': 'Maria Konnikova', 'borrowed_days': 142, 'loan_count': 16}\n",
      "{'book_number': '8', 'title': \"The Drunkard'S Walk\", 'author': 'Leonard Mlodinow', 'borrowed_days': 142, 'loan_count': 14}\n",
      "{'book_number': '95', 'title': 'New Markets & Other Essays', 'author': 'Peter Drucker', 'borrowed_days': 141, 'loan_count': 12}\n",
      "{'book_number': '22', 'title': 'Vol I Analysis', 'author': 'Terence Tao', 'borrowed_days': 128, 'loan_count': 20}\n",
      "{'book_number': '64', 'title': 'The Amulet Of Samarkand', 'author': 'Jonathan Stroud', 'borrowed_days': 128, 'loan_count': 11}\n",
      "{'book_number': '68', 'title': 'Sea Of Poppies', 'author': 'Amitav Ghosh', 'borrowed_days': 127, 'loan_count': 8}\n",
      "{'book_number': '115', 'title': 'Rationality & Freedom', 'author': 'Amartya Sen', 'borrowed_days': 127, 'loan_count': 15}\n",
      "{'book_number': '45', 'title': 'The Hidden Connections', 'author': 'Fritjof Capra', 'borrowed_days': 114, 'loan_count': 11}\n",
      "{'book_number': '25', 'title': 'Python For Data Analysis', 'author': 'Wes Mckinney', 'borrowed_days': 109, 'loan_count': 11}\n",
      "{'book_number': '102', 'title': 'Identity & Violence', 'author': 'Amartya Sen', 'borrowed_days': 107, 'loan_count': 12}\n",
      "{'book_number': '34', 'title': 'The Tao Of Physics', 'author': 'Fritjof Capra', 'borrowed_days': 100, 'loan_count': 10}\n",
      "{'book_number': '52', 'title': 'In A Free State', 'author': 'V. S. Naipaul', 'borrowed_days': 94, 'loan_count': 7}\n",
      "{'book_number': '97', 'title': 'The Hunchback Of Notre Dame', 'author': 'Victor Hugo', 'borrowed_days': 89, 'loan_count': 7}\n",
      "{'book_number': '26', 'title': 'Introduction To Algorithms', 'author': 'Thomas Cormen', 'borrowed_days': 88, 'loan_count': 11}\n",
      "{'book_number': '28', 'title': 'The Outsider', 'author': 'Albert Camus', 'borrowed_days': 86, 'loan_count': 8}\n",
      "{'book_number': '69', 'title': 'The Idea Of Justice', 'author': 'Amartya Sen', 'borrowed_days': 86, 'loan_count': 7}\n",
      "{'book_number': '9', 'title': 'Image Processing & Mathematical Morphology', 'author': 'Frank Shih', 'borrowed_days': 84, 'loan_count': 9}\n",
      "{'book_number': '3', 'title': 'God Created The Integers', 'author': 'Stephen Hawking', 'borrowed_days': 81, 'loan_count': 8}\n",
      "{'book_number': '81', 'title': 'Beyond Degrees', 'author': 'Unknown', 'borrowed_days': 81, 'loan_count': 12}\n",
      "{'book_number': '46', 'title': 'The Story Of Philosophy', 'author': 'Will Durant', 'borrowed_days': 72, 'loan_count': 7}\n",
      "{'book_number': '73', 'title': 'Scoop!', 'author': 'Kuldip Nayar', 'borrowed_days': 65, 'loan_count': 6}\n",
      "{'book_number': '70', 'title': 'A Raisin In The Sun', 'author': 'Lorraine Hansberry', 'borrowed_days': 63, 'loan_count': 7}\n",
      "{'book_number': '96', 'title': 'Electric Universe', 'author': 'David Bodanis', 'borrowed_days': 63, 'loan_count': 7}\n",
      "{'book_number': '29', 'title': 'The Complete Sherlock Holmes Vol I', 'author': 'Arthur Conan Doyle', 'borrowed_days': 59, 'loan_count': 7}\n",
      "{'book_number': '77', 'title': 'Radiowaril Bhashane & Shrutika', 'author': 'P L Deshpande', 'borrowed_days': 59, 'loan_count': 5}\n",
      "{'book_number': '44', 'title': 'Freakonomics', 'author': 'Stephen Dubner', 'borrowed_days': 55, 'loan_count': 5}\n",
      "{'book_number': '4', 'title': 'Superfreakonomics', 'author': 'Stephen Dubner', 'borrowed_days': 50, 'loan_count': 4}\n",
      "{'book_number': '18', 'title': 'Data Mining Handbook', 'author': 'Robert Nisbet', 'borrowed_days': 49, 'loan_count': 4}\n",
      "{'book_number': '42', 'title': 'A Russian Journal', 'author': 'John Steinbeck', 'borrowed_days': 46, 'loan_count': 5}\n",
      "{'book_number': '101', 'title': 'Down And Out In Paris & London', 'author': 'George Orwell', 'borrowed_days': 46, 'loan_count': 6}\n",
      "{'book_number': '50', 'title': 'The Moon Is Down', 'author': 'John Steinbeck', 'borrowed_days': 46, 'loan_count': 5}\n",
      "{'book_number': '118', 'title': 'One', 'author': 'Richard Bach', 'borrowed_days': 43, 'loan_count': 3}\n",
      "{'book_number': '86', 'title': 'O Jerusalem!', 'author': 'Dominique Lapierre', 'borrowed_days': 42, 'loan_count': 4}\n",
      "{'book_number': '40', 'title': 'Return Of The Primitive', 'author': 'Ayn Rand', 'borrowed_days': 39, 'loan_count': 3}\n",
      "{'book_number': '57', 'title': 'Textbook Of Economic Theory', 'author': 'Alfred Stonier', 'borrowed_days': 34, 'loan_count': 2}\n",
      "{'book_number': '35', 'title': \"Surely You'Re Joking Mr Feynman\", 'author': 'Richard Feynman', 'borrowed_days': 27, 'loan_count': 2}\n",
      "{'book_number': '67', 'title': 'The Argumentative Indian', 'author': 'Amartya Sen', 'borrowed_days': 25, 'loan_count': 2}\n",
      "{'book_number': '74', 'title': 'Ahe Manohar Tari', 'author': 'Sunita Deshpande', 'borrowed_days': 24, 'loan_count': 4}\n",
      "{'book_number': '113', 'title': 'History Of Western Philosophy', 'author': 'Bertrand Russell', 'borrowed_days': 23, 'loan_count': 3}\n",
      "{'book_number': '71', 'title': \"All The President'S Men\", 'author': 'Bob Woodward', 'borrowed_days': 23, 'loan_count': 3}\n",
      "{'book_number': '108', 'title': 'Ashenden Of The British Agent', 'author': 'William S Maugham', 'borrowed_days': 21, 'loan_count': 2}\n",
      "{'book_number': '59', 'title': 'Learning Opencv', 'author': 'Gary Bradsky', 'borrowed_days': 12, 'loan_count': 2}\n",
      "{'book_number': '13', 'title': 'Birth Of A Theorem', 'author': 'Cedric Villani', 'borrowed_days': 3, 'loan_count': 1}\n"
     ]
    }
   ],
   "source": [
    "# Assuming loan_out_details is a dictionary containing book details with book numbers as keys\n",
    "\n",
    "# Sort the books based on borrowed days\n",
    "sorted_books_by_borrowed_days = sorted(loan_out_details.values(), key=lambda x: x['borrowed_days'], reverse=True)\n",
    "\n",
    "print(\"Sorted List of Dictionaries of Borrowed Days.\\nThe most top one is the highest borrowed days\\nThe bottom is the least borrowed days\\n\")\n",
    "# Print the sorted list\n",
    "for book in sorted_books_by_borrowed_days:\n",
    "   print(book)\n"
   ]
  },
  {
   "cell_type": "code",
   "execution_count": 27,
   "id": "c5d25005-83ce-41e9-9a33-b46586364c43",
   "metadata": {},
   "outputs": [
    {
     "name": "stdout",
     "output_type": "stream",
     "text": [
      "Based on above sorted List\n",
      "\n",
      "Most borrowed days book:\n",
      "{'book_number': '43', 'title': 'Tales Of Mystery And Imagination', 'author': 'Edgar Allen Poe', 'borrowed_days': 301, 'loan_count': 24}\n",
      "\n",
      "Least borrowed days book:\n",
      "{'book_number': '13', 'title': 'Birth Of A Theorem', 'author': 'Cedric Villani', 'borrowed_days': 3, 'loan_count': 1}\n"
     ]
    }
   ],
   "source": [
    "# Assuming loan_out_details is a dictionary containing book details with book numbers as keys\n",
    "\n",
    "# Sort the books based on borrowed days\n",
    "sorted_books_by_borrowed_days = sorted(loan_out_details.values(), key=lambda x: x['borrowed_days'], reverse=True)\n",
    "\n",
    "# Retrieve the most borrowed days book\n",
    "most_borrowed_book = sorted_books_by_borrowed_days[0]\n",
    "\n",
    "# Retrieve the least borrowed days book\n",
    "least_borrowed_book = sorted_books_by_borrowed_days[-1]\n",
    "\n",
    "print(\"Based on above sorted List\\n\\nMost borrowed days book:\")\n",
    "print(most_borrowed_book)\n",
    "\n",
    "print(\"\\nLeast borrowed days book:\")\n",
    "print(least_borrowed_book)\n"
   ]
  },
  {
   "cell_type": "markdown",
   "id": "f04b077c-18d9-403d-9ad3-215a30d6d0e8",
   "metadata": {},
   "source": [
    "----------------\n"
   ]
  },
  {
   "cell_type": "markdown",
   "id": "13b7312c-17d2-4b41-96f1-f6a7579adf23",
   "metadata": {},
   "source": [
    "### <span style='color:blue'>**Task 2**</span>"
   ]
  },
  {
   "cell_type": "markdown",
   "id": "f952abd3-46b5-4c96-a23e-eb684a576fd3",
   "metadata": {},
   "source": [
    "The library is keen to know the interests of its readers to influence purchasing decisions. The books have different genres. You cannot assume all genres were borrowed; we are only interested in those that were. Is this sensible do you think? Or would a genre not borrowed at all be significant? Bear such issues in mind for the quality section. We decided to ignore sub-genres this year.\n",
    "\n",
    "- Write code to produce a popularity report of all genres of books borrowed in 2023 and how many books are in that genre.\n",
    "- Write code to sort the report. Default or reverse order is okay."
   ]
  },
  {
   "cell_type": "markdown",
   "id": "ef56969c-c745-4d25-81c7-9d64f7e12094",
   "metadata": {},
   "source": [
    "##### **Books summary based on genre:**"
   ]
  },
  {
   "cell_type": "code",
   "execution_count": 28,
   "id": "c41a614d-846f-44f8-94ba-7ace8d13375e",
   "metadata": {},
   "outputs": [],
   "source": [
    "def genre_popularity_report(valid_loans, book_data):\n",
    "    \"\"\"\n",
    "    Generates a popularity report of book genres borrowed in 2023.\n",
    "    Args:\n",
    "        valid_loans (list): A list of dictionaries containing valid loan details.\n",
    "        book_data (dict): A dictionary containing book details with book numbers as keys.\n",
    "    Returns:\n",
    "        dict: A dictionary containing the count of books borrowed for each genre.\n",
    "    \"\"\"\n",
    "    genre_count = {}\n",
    "    error_books = set()\n",
    "\n",
    "    for loan in valid_loans:\n",
    "        book_number = loan['book_number']\n",
    "        \n",
    "        try:\n",
    "            genre = book_data[book_number]['genre']\n",
    "            \n",
    "            # Count the occurrence of each genre\n",
    "            if genre in genre_count:\n",
    "                genre_count[genre] += 1\n",
    "            else:\n",
    "                genre_count[genre] = 1\n",
    "        except KeyError:\n",
    "            error_books.add(book_number)\n",
    "            \n",
    "    return genre_count, error_books\n",
    "\n"
   ]
  },
  {
   "cell_type": "code",
   "execution_count": 29,
   "id": "3b694706-b799-49e3-a784-34dae2a1dd72",
   "metadata": {},
   "outputs": [
    {
     "name": "stdout",
     "output_type": "stream",
     "text": [
      "The following Book numbers are not found in book data.\n",
      "\n",
      "{'130', '133', '121', '126', '134', '138', '129', '137', '140', '128', '125', '135', '139', '123', '132', '136', '127', '124', '131', '122'}\n",
      "\n",
      "Summary of number of borrows for each genre\n",
      "\n",
      "{'Fiction': 701, 'Science': 150, 'Tech': 386, 'Non-fiction': 577, 'Philosophy': 100}\n",
      "\n",
      "Most popular genre: Fiction,\n",
      "Count: 701\n",
      "\n",
      "Least popular genre: Philosophy,\n",
      "Count: 100\n"
     ]
    }
   ],
   "source": [
    "genre_count, error_books = genre_popularity_report(valid_loans, book_data)\n",
    "print(\"The following Book numbers are not found in book data.\\n\")\n",
    "print(error_books)\n",
    "print()\n",
    "print(\"Summary of number of borrows for each genre\\n\")\n",
    "print(genre_count)\n",
    "print()\n",
    "max_genre, max_count = max(genre_count.items(), key=lambda item: item[1])\n",
    "min_genre, min_count = min(genre_count.items(), key=lambda item: item[1])\n",
    "print(f\"Most popular genre: {max_genre},\\nCount: {max_count}\\n\")\n",
    "print(f\"Least popular genre: {min_genre},\\nCount: {min_count}\")\n"
   ]
  },
  {
   "cell_type": "markdown",
   "id": "def124a3-6aee-40f8-9247-7e1f47dc4c83",
   "metadata": {},
   "source": [
    "- Printing a dictionary containing details of books belonging to the most popular genre. The function printing_dict_10_lines is used to print the first 10 lines of the dictionary, which is a helpful way to display the data."
   ]
  },
  {
   "cell_type": "code",
   "execution_count": 30,
   "id": "f20a99bb-3e0e-4b79-a2d0-6163cdf3656f",
   "metadata": {
    "scrolled": true
   },
   "outputs": [
    {
     "name": "stdout",
     "output_type": "stream",
     "text": [
      "List of Dictionary containing most popular genre: 'Fiction'\n",
      "\n",
      "12 {'title': 'Slaughterhouse Five', 'author': 'Kurt Vonnegut', 'genre': 'Fiction'}\n",
      "16 {'title': 'The Trial', 'author': 'Frank Kafka', 'genre': 'Fiction'}\n",
      "19 {'title': 'The New Machiavelli', 'author': 'H. G. Wells', 'genre': 'Fiction'}\n",
      "28 {'title': 'The Outsider', 'author': 'Albert Camus', 'genre': 'Fiction'}\n",
      "29 {'title': 'The Complete Sherlock Holmes Vol I', 'author': 'Arthur Conan Doyle', 'genre': 'Fiction'}\n",
      "30 {'title': 'The Complete Sherlock Holmes Vol Ii', 'author': 'Arthur Conan Doyle', 'genre': 'Fiction'}\n",
      "32 {'title': 'The Pillars Of The Earth', 'author': 'Ken Follett', 'genre': 'Fiction'}\n",
      "36 {'title': 'A Farewell To Arms', 'author': 'Ernest Hemingway', 'genre': 'Fiction'}\n",
      "37 {'title': 'The Veteran', 'author': 'Frederick Forsyth', 'genre': 'Fiction'}\n",
      "38 {'title': 'False Impressions', 'author': 'Jeffery Archer', 'genre': 'Fiction'}\n"
     ]
    }
   ],
   "source": [
    "def list_of_most_popular_genre_books(book_data, most_popular_genre):\n",
    "    \"\"\"\n",
    "    Creates a dictionary containing details of books belonging to the most popular genre.\n",
    "\n",
    "    Args:\n",
    "        book_data (dict): A dictionary containing book details with book numbers as keys.\n",
    "        most_popular_genre (str): The most popular genre for which to retrieve books.\n",
    "\n",
    "    Returns:\n",
    "        dict: A dictionary containing details of books belonging to the most popular genre.\n",
    "              Keys are book numbers and values are dictionaries containing book details.\n",
    "              Book details include title, author, and genre.\n",
    "    \"\"\"\n",
    "    most_popular_genre_books = {}\n",
    "    \n",
    "    for book in book_data:\n",
    "        # to avoid a KeyError if a book in book_data doesn't have a 'genre' key\n",
    "        if 'genre' in book_data[book] and most_popular_genre == book_data[book]['genre']:\n",
    "            most_popular_genre_books[book] = {\n",
    "                'title' : book_data[book]['title'],\n",
    "                'author': book_data[book]['author'],\n",
    "                'genre' : book_data[book]['genre'],\n",
    "                \n",
    "            }\n",
    "    return most_popular_genre_books\n",
    "\n",
    "most_popular_genre = 'Fiction'\n",
    "most_popular_genre_books = list_of_most_popular_genre_books(book_data, most_popular_genre)\n",
    "print(\"List of Dictionary containing most popular genre: 'Fiction'\\n\")\n",
    "\n",
    "\n",
    "printing_dict_10_lines(most_popular_genre_books)\n",
    "\n",
    "# If needed to print out the whole report, run below line please!\n",
    "#print(most_popular_genre_books)\n",
    "        \n"
   ]
  },
  {
   "cell_type": "markdown",
   "id": "6f3bab08-8ab3-44cb-8d48-6ec6e85a7c5b",
   "metadata": {},
   "source": [
    "------------\n"
   ]
  },
  {
   "cell_type": "markdown",
   "id": "378f2a8e-c4ee-4b03-b78b-8d906542b56a",
   "metadata": {},
   "source": [
    "### <span style='color:blue'>**Task 3**</span>"
   ]
  },
  {
   "cell_type": "markdown",
   "id": "280b6d7c-b7c5-49ef-a516-d3dd0c11364a",
   "metadata": {},
   "source": [
    "Statistics on loans and late loans are lost.\n",
    "\n",
    "For the library books, we need you to calculate the:\n",
    "\n",
    "- Number of loans.\n",
    "- Number of days borrowed.\n",
    "- Number of loans returned late.\n",
    "- Number of days late.\n",
    "- Average number of days a book was borrowed.\n",
    "- The percentage proportion of books returned late.\n",
    "- The average late period of books returned late.\n",
    "  \n",
    "A book borrowed and returned on the same day was borrowed for one day. If a book is returned after 19 days, it is 5 days late.\n",
    "\n",
    "The report should show:\n",
    "- **a) The average number of days that a book was borrowed.**\n",
    "        Assume that if books were borrowed for 20,000 days and the number of loans was 2,000, the average number of    days that a book was borrowed was 10 days.\n",
    "- **b) The percentage proportion of books returned late.**\n",
    "        Assume that if the number of loans returned late was 500 when the number of loans was 2,000, the proportion of books returned late was 25%.\n",
    "- **c) The average late period of books returned late.** i.e., a book returned late is on average this many days after the grace period.\n",
    "  \n",
    "   "
   ]
  },
  {
   "cell_type": "markdown",
   "id": "2d43758e-1509-4fbd-9b1e-453a6e8775b4",
   "metadata": {},
   "source": [
    "As it doesnt specify valid or invalid data based on same year returns, I assume the loans considered as whole."
   ]
  },
  {
   "cell_type": "code",
   "execution_count": 31,
   "id": "bf6ffea1-d5de-4269-8f7a-2ca1e725c3e4",
   "metadata": {},
   "outputs": [
    {
     "name": "stdout",
     "output_type": "stream",
     "text": [
      "Number of Loans:  2209\n"
     ]
    }
   ],
   "source": [
    "print(\"Number of Loans: \", len(loan_data))"
   ]
  },
  {
   "cell_type": "markdown",
   "id": "4e99a452-b065-4b48-aeeb-1615faa75249",
   "metadata": {},
   "source": [
    "--------------------------\n",
    "\n",
    "#### **Statistics on loans and late loans:**"
   ]
  },
  {
   "cell_type": "code",
   "execution_count": 32,
   "id": "96f4ce1c-e5ea-431a-a27a-5cd22ab0ddde",
   "metadata": {},
   "outputs": [],
   "source": [
    "from datetime import datetime, timedelta\n",
    "\n",
    "# Define the Excel epoch date\n",
    "EXCEL_EPOCH = datetime(1899, 12, 30)\n",
    "\n",
    "def excel_date_to_datetime(excel_date):\n",
    "    \"\"\"Converts an Excel date to a Python datetime object.\"\"\"\n",
    "    return EXCEL_EPOCH + timedelta(days=excel_date)\n",
    "\n",
    "def statistics_on_loans(loan_data):\n",
    "    \"\"\"\n",
    "    Calculates Number of loans, Number of days borrowed, Number of loans returned late, Number of days late.\n",
    "    Args:\n",
    "        loan_data (list): A list of dictionaries containing loan details.\n",
    "    Returns:\n",
    "        tuple: Number of loans, Number of days borrowed, Number of loans returned late, Number of days late.\n",
    "    \"\"\"\n",
    "    # Initialize variables to store statistics\n",
    "    number_loans = 0\n",
    "    number_days_borrowed = 0\n",
    "    number_loans_returned_late = 0\n",
    "    number_days_late = 0\n",
    "    \n",
    "    # Iterate over each loan data\n",
    "    for loan in loan_data:\n",
    "        number_loans += 1\n",
    "        \n",
    "        # Convert Excel epoch dates to datetime objects\n",
    "        loan_date = excel_date_to_datetime(loan['date_of_loan'])\n",
    "        return_date = excel_date_to_datetime(loan['date_of_return'])\n",
    "\n",
    "        # Calculate the number of days the book was borrowed\n",
    "        if loan['date_of_return'] != 0:  # Book has been returned\n",
    "            days_borrowed = (return_date - loan_date).days\n",
    "        else:  # Book has not been returned yet\n",
    "            days_borrowed = (datetime.today() - loan_date).days\n",
    "            \n",
    "        number_days_borrowed += days_borrowed\n",
    "\n",
    "        # Calculate the number of days late if applicable\n",
    "        if days_borrowed > 14:  # Book is returned after 14 days\n",
    "            number_loans_returned_late += 1\n",
    "            number_days_late += (days_borrowed - 14)\n",
    "\n",
    "    return number_loans, number_days_borrowed, number_loans_returned_late, number_days_late\n",
    "\n",
    "number_loans, number_days_borrowed, number_loans_returned_late, number_days_late = statistics_on_loans(loan_data)\n",
    "\n",
    "def average_number_days_book_borrowed(number_days_borrowed, number_loans):\n",
    "    \"\"\"Claculating the average number of days that a book was borrowed\"\"\"\n",
    "    average_days_borrowed = number_days_borrowed / number_loans\n",
    "    return average_days_borrowed\n",
    "\n",
    "def percentage_books_returned_late(number_loans_returned_late, number_loans):\n",
    "    \"\"\"Calculating the percentage proportion of books returned late\"\"\"\n",
    "    percentage_late_returns = number_loans_returned_late / number_loans * 100\n",
    "    return percentage_late_returns\n",
    "\n",
    "def average_late_returned_books(number_days_late, number_loans):\n",
    "    \"\"\"Calculating the average late period of books returned late, in days\"\"\"\n",
    "    average_late_returns = number_days_late / number_loans\n",
    "    return average_late_returns\n",
    "\n",
    "average_days_borrowed = average_number_days_book_borrowed(number_days_borrowed, number_loans)\n",
    "percentage_late_returns = percentage_books_returned_late(number_loans_returned_late, number_loans)\n",
    "average_late_returns =  average_late_returned_books(number_days_late, number_loans_returned_late)\n"
   ]
  },
  {
   "cell_type": "code",
   "execution_count": 33,
   "id": "2c395c61-80e4-469a-8cdf-217e7fe45bd1",
   "metadata": {},
   "outputs": [
    {
     "name": "stdout",
     "output_type": "stream",
     "text": [
      "Statistics on loans and late loans\n",
      "===============================================================\n",
      "Number of loans:                                           2209\n",
      "Number of days borrowed:                                  35027\n",
      "Number of loans returned late:                              664\n",
      "Number of days late:                                      14322\n",
      "Number of books:                                           2209\n",
      "The average number of days that a book was borrowed:         16\n",
      "The percentage proportion of books returned late:         30.1%\n",
      "The average late period of books returned late, in days:     22\n"
     ]
    }
   ],
   "source": [
    "print(\"Statistics on loans and late loans\")\n",
    "print(\"===============================================================\")\n",
    "print(f\"Number of loans: {'': <42}{number_loans}\")\n",
    "print(f\"Number of days borrowed: {'': <33}{number_days_borrowed}\")\n",
    "print(f\"Number of loans returned late: {'': <29}{number_loans_returned_late}\")\n",
    "print(f\"Number of days late: {'': <37}{number_days_late}\")\n",
    "print(f\"Number of books: {'': <42}{number_loans}\")\n",
    "print(f\"The average number of days that a book was borrowed: {'': <8}{average_days_borrowed:.0f}\")\n",
    "print(f\"The percentage proportion of books returned late: {'': <8}{percentage_late_returns:.1f}%\")\n",
    "print(f\"The average late period of books returned late, in days: {'': <4}{average_late_returns:.0f}\")\n"
   ]
  },
  {
   "cell_type": "markdown",
   "id": "441cce1a-4822-4488-be9a-cfe0a2f256fe",
   "metadata": {
    "jp-MarkdownHeadingCollapsed": true
   },
   "source": [
    "--------------------\n",
    "\n",
    "### **Conclusion:**\n",
    "I tried to cover and include most of the aspects of the assessment as learning in the process of doing so. Certain, different ways of presentations I tried here although they are not in the scope of the assessment. Learning with dictionaries was very valuable and interesting as it is very powerful in data handling, the same as tuples. They are challenging to handle as well. Some techniques I learned new as hit and try. I extensively used user-defined functions where possible, which gave me clarity in calculations, multiple uses, a lot easier troubleshooting, and a clean sheet in the main body. It helped me to modify the functions very often without affecting the overall result or getting mixed up as I had to focus only on a smaller portion of the whole project. Most of the functions have been developed to this stage after multiple modifications.\n",
    "\n",
    "Such assignments are very valuable in learning as the most difficult part is the application of the learning materials. Going forward I believe such case studies are very valuable. If we can add such works to our portfolio would be great if we are allowed to do so. The biggest benefit of such assessment I gained was using predefined functions where possible and keeping a clean main body, obviously in research and application.\n",
    "\n",
    "Completing the assignment I have followed the following points:\n",
    "\n",
    "- Using functions for most of the operations.\n",
    "- Used Docstrings in every function. That way helped me to provide the necessary documentation for each operation.\n",
    "- Used comments in most places.\n",
    "- Used Jupyter markdown section to provide additional information, chapter divisions and task references etc. This additional information will help me to study the assignment after a later period without any other documentation or use this as for personal portfolio or any one to understand how it was done.\n",
    "- Where needed for every requirment data sheets, calculations, reports are generated on the screen to verify the functions.\n",
    "  \n",
    "**Data Quality:** \n",
    "  \n",
    "***Note:*** In the given limited time completing, testing and troubleshooting this assessment there could be unintentionally missed requirements, wrong calculations or wrong assumptions, I would be glad to correct them if required.\n",
    "Thank you.  "
   ]
  },
  {
   "cell_type": "markdown",
   "id": "fbae7859-7c3c-4e66-828d-4148e8382154",
   "metadata": {},
   "source": [
    "==================================================================================================================================================\n",
    "------------\n",
    "\n",
    "Completed by: **Ajantha Wirasinghe**  &emsp; Keele Student number: **24027813** &emsp;  Date: **31/03/2024**"
   ]
  }
 ],
 "metadata": {
  "kernelspec": {
   "display_name": "Python 3 (ipykernel)",
   "language": "python",
   "name": "python3"
  },
  "language_info": {
   "codemirror_mode": {
    "name": "ipython",
    "version": 3
   },
   "file_extension": ".py",
   "mimetype": "text/x-python",
   "name": "python",
   "nbconvert_exporter": "python",
   "pygments_lexer": "ipython3",
   "version": "3.11.7"
  }
 },
 "nbformat": 4,
 "nbformat_minor": 5
}
